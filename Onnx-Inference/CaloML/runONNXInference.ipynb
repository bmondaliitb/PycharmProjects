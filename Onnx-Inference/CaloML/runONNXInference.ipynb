{
 "cells": [
  {
   "cell_type": "code",
   "execution_count": 1,
   "id": "9701050a",
   "metadata": {},
   "outputs": [],
   "source": [
    "import uproot\n",
    "import yaml\n",
    "import pandas as pd\n",
    "import numpy as np\n",
    "import matplotlib.pyplot as plt\n",
    "import mplhep"
   ]
  },
  {
   "cell_type": "code",
   "execution_count": 2,
   "id": "41b66b7e",
   "metadata": {},
   "outputs": [],
   "source": [
    "CONFIG_FILE = '/mnt/nvme0n1p4/CLion-Pycharm-Projects/PycharmProjects/Onnx-Inference/CaloML/config_hgm_mc16.yaml'\n",
    "ONNX_MODEL_PATH = '/mnt/nvme0n1p4/CLion-Pycharm-Projects/PycharmProjects/Onnx-Inference/CaloML/HGM_3.model-03-12-2025.onnx'\n",
    "INPUT_NTUPLE = '/mnt/nvme0n1p4/CLion-Pycharm-Projects/PycharmProjects/Onnx-Inference/CaloML/ClusterEnergies.root'"
   ]
  },
  {
   "cell_type": "code",
   "execution_count": 3,
   "id": "310221ea",
   "metadata": {},
   "outputs": [],
   "source": [
    "df = uproot.concatenate(INPUT_NTUPLE, library='pd')"
   ]
  },
  {
   "cell_type": "code",
   "execution_count": 33,
   "id": "c087b597",
   "metadata": {},
   "outputs": [
    {
     "data": {
      "text/html": [
       "<div>\n",
       "<style scoped>\n",
       "    .dataframe tbody tr th:only-of-type {\n",
       "        vertical-align: middle;\n",
       "    }\n",
       "\n",
       "    .dataframe tbody tr th {\n",
       "        vertical-align: top;\n",
       "    }\n",
       "\n",
       "    .dataframe thead th {\n",
       "        text-align: right;\n",
       "    }\n",
       "</style>\n",
       "<table border=\"1\" class=\"dataframe\">\n",
       "  <thead>\n",
       "    <tr style=\"text-align: right;\">\n",
       "      <th></th>\n",
       "      <th>clusterE</th>\n",
       "      <th>clusterE_LCW</th>\n",
       "      <th>clusterE_Truth</th>\n",
       "      <th>clusterEta</th>\n",
       "      <th>cluster_SIGNIFICANCE</th>\n",
       "      <th>cluster_time</th>\n",
       "      <th>cluster_SECOND_TIME</th>\n",
       "      <th>cluster_CENTER_LAMBDA</th>\n",
       "      <th>cluster_CENTER_MAG</th>\n",
       "      <th>cluster_ENG_FRAC_EM</th>\n",
       "      <th>cluster_FIRST_ENG_DENS</th>\n",
       "      <th>cluster_LONGITUDINAL</th>\n",
       "      <th>cluster_LATERAL</th>\n",
       "      <th>cluster_PTD</th>\n",
       "      <th>cluster_ISOLATION</th>\n",
       "      <th>nPrimVtx</th>\n",
       "      <th>avgMu</th>\n",
       "    </tr>\n",
       "  </thead>\n",
       "  <tbody>\n",
       "    <tr>\n",
       "      <th>0</th>\n",
       "      <td>16.499309</td>\n",
       "      <td>22.967885</td>\n",
       "      <td>16166.611328</td>\n",
       "      <td>1.874702</td>\n",
       "      <td>82.801994</td>\n",
       "      <td>0.102387</td>\n",
       "      <td>0.046077</td>\n",
       "      <td>256.037323</td>\n",
       "      <td>4177.289551</td>\n",
       "      <td>1.000000</td>\n",
       "      <td>0.020791</td>\n",
       "      <td>0.244089</td>\n",
       "      <td>0.399780</td>\n",
       "      <td>0.635285</td>\n",
       "      <td>0.880452</td>\n",
       "      <td>3</td>\n",
       "      <td>0.0</td>\n",
       "    </tr>\n",
       "    <tr>\n",
       "      <th>1</th>\n",
       "      <td>9.138374</td>\n",
       "      <td>13.189838</td>\n",
       "      <td>7197.510254</td>\n",
       "      <td>1.788090</td>\n",
       "      <td>20.072351</td>\n",
       "      <td>0.133287</td>\n",
       "      <td>0.781234</td>\n",
       "      <td>102.551758</td>\n",
       "      <td>4066.940918</td>\n",
       "      <td>0.846218</td>\n",
       "      <td>0.007591</td>\n",
       "      <td>0.798493</td>\n",
       "      <td>0.785001</td>\n",
       "      <td>0.244286</td>\n",
       "      <td>0.951204</td>\n",
       "      <td>3</td>\n",
       "      <td>0.0</td>\n",
       "    </tr>\n",
       "    <tr>\n",
       "      <th>2</th>\n",
       "      <td>2.748852</td>\n",
       "      <td>4.042329</td>\n",
       "      <td>2678.146729</td>\n",
       "      <td>0.399391</td>\n",
       "      <td>9.035995</td>\n",
       "      <td>1.206650</td>\n",
       "      <td>0.331080</td>\n",
       "      <td>1005.168762</td>\n",
       "      <td>2623.692383</td>\n",
       "      <td>0.058387</td>\n",
       "      <td>0.000053</td>\n",
       "      <td>0.739138</td>\n",
       "      <td>0.543075</td>\n",
       "      <td>0.555546</td>\n",
       "      <td>0.835458</td>\n",
       "      <td>3</td>\n",
       "      <td>0.0</td>\n",
       "    </tr>\n",
       "    <tr>\n",
       "      <th>3</th>\n",
       "      <td>3.375970</td>\n",
       "      <td>6.719827</td>\n",
       "      <td>2839.731201</td>\n",
       "      <td>1.105703</td>\n",
       "      <td>11.350155</td>\n",
       "      <td>0.203049</td>\n",
       "      <td>19.057089</td>\n",
       "      <td>312.104462</td>\n",
       "      <td>2783.903320</td>\n",
       "      <td>0.920799</td>\n",
       "      <td>0.000500</td>\n",
       "      <td>0.834718</td>\n",
       "      <td>0.816080</td>\n",
       "      <td>0.334258</td>\n",
       "      <td>0.746926</td>\n",
       "      <td>3</td>\n",
       "      <td>0.0</td>\n",
       "    </tr>\n",
       "    <tr>\n",
       "      <th>4</th>\n",
       "      <td>2.404664</td>\n",
       "      <td>4.596327</td>\n",
       "      <td>2574.151123</td>\n",
       "      <td>1.009612</td>\n",
       "      <td>8.215182</td>\n",
       "      <td>3.097960</td>\n",
       "      <td>30.369579</td>\n",
       "      <td>284.807587</td>\n",
       "      <td>2590.650879</td>\n",
       "      <td>1.000000</td>\n",
       "      <td>0.000565</td>\n",
       "      <td>0.812865</td>\n",
       "      <td>0.715392</td>\n",
       "      <td>0.345916</td>\n",
       "      <td>1.000000</td>\n",
       "      <td>3</td>\n",
       "      <td>0.0</td>\n",
       "    </tr>\n",
       "  </tbody>\n",
       "</table>\n",
       "</div>"
      ],
      "text/plain": [
       "    clusterE  clusterE_LCW  clusterE_Truth  clusterEta  cluster_SIGNIFICANCE  \\\n",
       "0  16.499309     22.967885    16166.611328    1.874702             82.801994   \n",
       "1   9.138374     13.189838     7197.510254    1.788090             20.072351   \n",
       "2   2.748852      4.042329     2678.146729    0.399391              9.035995   \n",
       "3   3.375970      6.719827     2839.731201    1.105703             11.350155   \n",
       "4   2.404664      4.596327     2574.151123    1.009612              8.215182   \n",
       "\n",
       "   cluster_time  cluster_SECOND_TIME  cluster_CENTER_LAMBDA  \\\n",
       "0      0.102387             0.046077             256.037323   \n",
       "1      0.133287             0.781234             102.551758   \n",
       "2      1.206650             0.331080            1005.168762   \n",
       "3      0.203049            19.057089             312.104462   \n",
       "4      3.097960            30.369579             284.807587   \n",
       "\n",
       "   cluster_CENTER_MAG  cluster_ENG_FRAC_EM  cluster_FIRST_ENG_DENS  \\\n",
       "0         4177.289551             1.000000                0.020791   \n",
       "1         4066.940918             0.846218                0.007591   \n",
       "2         2623.692383             0.058387                0.000053   \n",
       "3         2783.903320             0.920799                0.000500   \n",
       "4         2590.650879             1.000000                0.000565   \n",
       "\n",
       "   cluster_LONGITUDINAL  cluster_LATERAL  cluster_PTD  cluster_ISOLATION  \\\n",
       "0              0.244089         0.399780     0.635285           0.880452   \n",
       "1              0.798493         0.785001     0.244286           0.951204   \n",
       "2              0.739138         0.543075     0.555546           0.835458   \n",
       "3              0.834718         0.816080     0.334258           0.746926   \n",
       "4              0.812865         0.715392     0.345916           1.000000   \n",
       "\n",
       "   nPrimVtx  avgMu  \n",
       "0         3    0.0  \n",
       "1         3    0.0  \n",
       "2         3    0.0  \n",
       "3         3    0.0  \n",
       "4         3    0.0  "
      ]
     },
     "execution_count": 33,
     "metadata": {},
     "output_type": "execute_result"
    }
   ],
   "source": [
    "df.head()"
   ]
  },
  {
   "cell_type": "code",
   "execution_count": 34,
   "id": "54ce8b3c",
   "metadata": {},
   "outputs": [],
   "source": [
    "from process_features import FeatureProcessor"
   ]
  },
  {
   "cell_type": "code",
   "execution_count": 35,
   "id": "4725690a-63d9-464b-8f61-6cae91b95575",
   "metadata": {},
   "outputs": [
    {
     "name": "stdout",
     "output_type": "stream",
     "text": [
      "FeatureProcessor initialized successfully.\n"
     ]
    },
    {
     "data": {
      "text/plain": [
       "{'clusterE': {'name_pt': 'e_ems',\n",
       "  'unit': 'GeV',\n",
       "  'preprocessing': ['LogTenStandard'],\n",
       "  'parameter': [0, 0, 0.5383309653195014, 0.628568916276738],\n",
       "  'index': 0},\n",
       " 'clusterEta': {'name_pt': 'y_ems',\n",
       "  'unit': 'None',\n",
       "  'preprocessing': ['Standard'],\n",
       "  'parameter': [-0.016698479788232697, 1.0491226036634902],\n",
       "  'index': 1},\n",
       " 'cluster_SIGNIFICANCE': {'name_pt': 'm_sig',\n",
       "  'unit': 'None',\n",
       "  'preprocessing': ['LogTenStandard'],\n",
       "  'parameter': [0, 0, 0.8161004842702827, 0.47155666226363097],\n",
       "  'index': 2},\n",
       " 'cluster_time': {'name_pt': 't_ems',\n",
       "  'unit': 'ns',\n",
       "  'preprocessing': ['MaxAbsolute'],\n",
       "  'parameter': [475.3998107910156],\n",
       "  'index': 3},\n",
       " 'cluster_SECOND_TIME': {'name_pt': 'm_tim',\n",
       "  'unit': 'ns*ns',\n",
       "  'preprocessing': ['LogTenStandard'],\n",
       "  'parameter': [0.0, 1e-10, -0.8516841907428125, 3.5748536072144943],\n",
       "  'index': 4},\n",
       " 'cluster_CENTER_LAMBDA': {'name_pt': 'm_lam',\n",
       "  'unit': 'mm',\n",
       "  'preprocessing': ['LogTenStandard'],\n",
       "  'parameter': [0, 0, 2.4409632778948436, 0.4577559845783319],\n",
       "  'index': 5},\n",
       " 'cluster_CENTER_MAG': {'name_pt': 'm_cog',\n",
       "  'unit': 'mm',\n",
       "  'preprocessing': ['Standard'],\n",
       "  'parameter': [2862.850422157656, 1046.596737305881],\n",
       "  'index': 6},\n",
       " 'cluster_ENG_FRAC_EM': {'name_pt': 'm_fem',\n",
       "  'unit': 'None',\n",
       "  'preprocessing': ['Standard'],\n",
       "  'parameter': [0.7251406213192042, 0.3307193898602485],\n",
       "  'index': 7},\n",
       " 'cluster_FIRST_ENG_DENS': {'name_pt': 'm_rho',\n",
       "  'unit': 'GeV/mm3',\n",
       "  'preprocessing': ['LogTenStandard'],\n",
       "  'parameter': [0, 0, -6.221791073703417, 0.6510272656508588],\n",
       "  'index': 8},\n",
       " 'cluster_LONGITUDINAL': {'name_pt': 'm_lon',\n",
       "  'unit': 'None',\n",
       "  'preprocessing': ['Standard'],\n",
       "  'parameter': [0.7244948422521433, 0.20203456180857668],\n",
       "  'index': 9},\n",
       " 'cluster_LATERAL': {'name_pt': 'm_lat',\n",
       "  'unit': 'None',\n",
       "  'preprocessing': ['Standard'],\n",
       "  'parameter': [0.7810809975577534, 0.18254495192903947],\n",
       "  'index': 10},\n",
       " 'cluster_PTD': {'name_pt': 'm_ptd',\n",
       "  'unit': 'None',\n",
       "  'preprocessing': ['Standard'],\n",
       "  'parameter': [0.3537810800830943, 0.14271312447959003],\n",
       "  'index': 11},\n",
       " 'cluster_ISOLATION': {'name_pt': 'm_iso',\n",
       "  'unit': 'None',\n",
       "  'preprocessing': ['Standard'],\n",
       "  'parameter': [0.6297078159307947, 0.23074175970958985],\n",
       "  'index': 12},\n",
       " 'nPrimVtx': {'name_pt': 'p_npv',\n",
       "  'unit': 'None',\n",
       "  'preprocessing': ['Standard'],\n",
       "  'parameter': [21.667251149425287, 7.285535657152234],\n",
       "  'index': 13},\n",
       " 'avgMu': {'name_pt': 'p_mmu',\n",
       "  'unit': 'None',\n",
       "  'preprocessing': ['Standard'],\n",
       "  'parameter': [36.596049611635266, 12.789332367456366],\n",
       "  'index': 14}}"
      ]
     },
     "execution_count": 35,
     "metadata": {},
     "output_type": "execute_result"
    }
   ],
   "source": [
    "processor = FeatureProcessor(config_path=CONFIG_FILE)\n",
    "processor.feature_definitions"
   ]
  },
  {
   "cell_type": "code",
   "execution_count": 36,
   "id": "07638193-3ecb-4c74-9256-92d7653e8252",
   "metadata": {},
   "outputs": [
    {
     "name": "stdout",
     "output_type": "stream",
     "text": [
      "\n",
      "Applying transformations to 13565 rows...\n",
      "  - Processing column 'clusterE'...\n",
      "    - Applied 'LogTenStandard' successfully.\n",
      "  - Processing column 'clusterEta'...\n",
      "    - Applied 'Standard' successfully.\n",
      "  - Processing column 'cluster_SIGNIFICANCE'...\n",
      "    - Applied 'LogTenStandard' successfully.\n",
      "  - Processing column 'cluster_time'...\n",
      "    - Applied 'MaxAbsolute' successfully.\n",
      "  - Processing column 'cluster_SECOND_TIME'...\n",
      "    - Applied 'LogTenStandard' successfully.\n",
      "  - Processing column 'cluster_CENTER_LAMBDA'...\n",
      "    - Applied 'LogTenStandard' successfully.\n",
      "  - Processing column 'cluster_CENTER_MAG'...\n",
      "    - Applied 'Standard' successfully.\n",
      "  - Processing column 'cluster_ENG_FRAC_EM'...\n",
      "    - Applied 'Standard' successfully.\n",
      "  - Processing column 'cluster_FIRST_ENG_DENS'...\n",
      "    - Applied 'LogTenStandard' successfully.\n",
      "  - Processing column 'cluster_LONGITUDINAL'...\n",
      "    - Applied 'Standard' successfully.\n",
      "  - Processing column 'cluster_LATERAL'...\n",
      "    - Applied 'Standard' successfully.\n",
      "  - Processing column 'cluster_PTD'...\n",
      "    - Applied 'Standard' successfully.\n",
      "  - Processing column 'cluster_ISOLATION'...\n",
      "    - Applied 'Standard' successfully.\n",
      "  - Processing column 'nPrimVtx'...\n",
      "    - Applied 'Standard' successfully.\n",
      "  - Processing column 'avgMu'...\n",
      "    - Applied 'Standard' successfully.\n",
      "\n",
      "Transformations complete.\n"
     ]
    },
    {
     "name": "stderr",
     "output_type": "stream",
     "text": [
      "/mnt/nvme0n1p4/CLion-Pycharm-Projects/PycharmProjects/Onnx-Inference/venv/lib/python3.13/site-packages/pandas/core/arraylike.py:399: RuntimeWarning: invalid value encountered in log10\n",
      "  result = getattr(ufunc, method)(*inputs, **kwargs)\n"
     ]
    }
   ],
   "source": [
    "df_scaled = processor.transform(df)"
   ]
  },
  {
   "cell_type": "code",
   "execution_count": 37,
   "id": "4fcbf214-1635-4285-bf0e-2088330f3577",
   "metadata": {},
   "outputs": [],
   "source": [
    "# Replace zeros with a small value (e.g., 1e-6)\n",
    "df_scaled[df_scaled == 0] = 1e-6"
   ]
  },
  {
   "cell_type": "code",
   "execution_count": 38,
   "id": "953782b1-8b37-484e-af48-aa37cbf79fa0",
   "metadata": {},
   "outputs": [
    {
     "name": "stdout",
     "output_type": "stream",
     "text": [
      "\n",
      "--- Running ONNX Inference ---\n",
      "Model: /mnt/nvme0n1p4/CLion-Pycharm-Projects/PycharmProjects/Onnx-Inference/CaloML/HGM_3.model-03-12-2025.onnx\n",
      "Input features ordered by index: ['clusterE', 'clusterEta', 'cluster_SIGNIFICANCE', 'cluster_time', 'cluster_SECOND_TIME', 'cluster_CENTER_LAMBDA', 'cluster_CENTER_MAG', 'cluster_ENG_FRAC_EM', 'cluster_FIRST_ENG_DENS', 'cluster_LONGITUDINAL', 'cluster_LATERAL', 'cluster_PTD', 'cluster_ISOLATION', 'nPrimVtx', 'avgMu']\n",
      "Input tensor shape: (13565, 15)\n",
      "ONNX model output keys: ['mus', 'sigmas', 'alphas']\n",
      "Inference complete.\n"
     ]
    }
   ],
   "source": [
    "model_outputs = processor.run_inference(model_path=ONNX_MODEL_PATH, df=df_scaled)"
   ]
  },
  {
   "cell_type": "code",
   "execution_count": 39,
   "id": "e3d3355c-a49b-4b05-8cfa-01299aa016ca",
   "metadata": {},
   "outputs": [
    {
     "data": {
      "text/plain": [
       "[array([[ 0.4496675 ,  0.2195386 ,  0.65665114],\n",
       "        [ 0.7803286 ,  0.4663961 ,  0.94301724],\n",
       "        [ 1.0625908 ,  0.74989897,  1.1293489 ],\n",
       "        ...,\n",
       "        [ 0.16194233, -0.09258009,  0.13698593],\n",
       "        [ 0.22433637, -0.01543553, -0.01340331],\n",
       "        [ 0.10981435, -0.01607499,  0.04290354]],\n",
       "       shape=(13565, 3), dtype=float32),\n",
       " array([[-5.917291 , -7.9184194, -4.5550466],\n",
       "        [-5.4597607, -5.751543 , -4.753867 ],\n",
       "        [-5.049109 , -3.4545023, -4.9767413],\n",
       "        ...,\n",
       "        [-7.1768847, -5.2967825, -4.5739956],\n",
       "        [-6.6565003, -6.425266 , -4.7409906],\n",
       "        [-7.866676 , -7.268035 , -4.977542 ]],\n",
       "       shape=(13565, 3), dtype=float32),\n",
       " array([[0.01497985, 0.9614912 , 0.02352897],\n",
       "        [0.26245415, 0.46051708, 0.27702865],\n",
       "        [0.06411679, 0.02749052, 0.9083927 ],\n",
       "        ...,\n",
       "        [0.6384348 , 0.11377446, 0.24779071],\n",
       "        [0.17174982, 0.40161735, 0.42663282],\n",
       "        [0.53324515, 0.1822173 , 0.28453764]],\n",
       "       shape=(13565, 3), dtype=float32)]"
      ]
     },
     "execution_count": 39,
     "metadata": {},
     "output_type": "execute_result"
    }
   ],
   "source": [
    "model_outputs"
   ]
  },
  {
   "cell_type": "code",
   "execution_count": 40,
   "id": "bc86b12f-e920-4e8d-a37e-43127d9e031b",
   "metadata": {},
   "outputs": [
    {
     "name": "stdout",
     "output_type": "stream",
     "text": [
      "[[ 0.4496675   0.2195386   0.65665114]\n",
      " [ 0.7803286   0.4663961   0.94301724]\n",
      " [ 1.0625908   0.74989897  1.1293489 ]\n",
      " ...\n",
      " [ 0.16194233 -0.09258009  0.13698593]\n",
      " [ 0.22433637 -0.01543553 -0.01340331]\n",
      " [ 0.10981435 -0.01607499  0.04290354]]\n"
     ]
    }
   ],
   "source": [
    "mus = model_outputs[0]\n",
    "sigmas = model_outputs[1]\n",
    "alphas = model_outputs[2]\n",
    "print(mus)"
   ]
  },
  {
   "cell_type": "code",
   "execution_count": 41,
   "id": "17331f93-8a63-4766-8b30-06d1861d928f",
   "metadata": {},
   "outputs": [
    {
     "name": "stdout",
     "output_type": "stream",
     "text": [
      "clusterE                  117\n",
      "clusterE_LCW                0\n",
      "clusterE_Truth              0\n",
      "clusterEta                  0\n",
      "cluster_SIGNIFICANCE       52\n",
      "cluster_time                0\n",
      "cluster_SECOND_TIME         0\n",
      "cluster_CENTER_LAMBDA       0\n",
      "cluster_CENTER_MAG          0\n",
      "cluster_ENG_FRAC_EM         0\n",
      "cluster_FIRST_ENG_DENS      0\n",
      "cluster_LONGITUDINAL        0\n",
      "cluster_LATERAL             0\n",
      "cluster_PTD                 0\n",
      "cluster_ISOLATION           0\n",
      "nPrimVtx                    0\n",
      "avgMu                       0\n",
      "dtype: int64\n",
      "clusterE                   0\n",
      "clusterE_LCW               0\n",
      "clusterE_Truth             0\n",
      "clusterEta                 0\n",
      "cluster_SIGNIFICANCE       0\n",
      "cluster_time               0\n",
      "cluster_SECOND_TIME        0\n",
      "cluster_CENTER_LAMBDA      9\n",
      "cluster_CENTER_MAG         0\n",
      "cluster_ENG_FRAC_EM        0\n",
      "cluster_FIRST_ENG_DENS    41\n",
      "cluster_LONGITUDINAL       0\n",
      "cluster_LATERAL            0\n",
      "cluster_PTD                0\n",
      "cluster_ISOLATION          0\n",
      "nPrimVtx                   0\n",
      "avgMu                      0\n",
      "dtype: int64\n"
     ]
    }
   ],
   "source": [
    "print(df_scaled.isna().sum())\n",
    "print(np.isinf(df_scaled).sum())"
   ]
  },
  {
   "cell_type": "code",
   "execution_count": 42,
   "id": "223543e8-d96d-4ddb-b256-cc02beb50214",
   "metadata": {},
   "outputs": [
    {
     "name": "stdout",
     "output_type": "stream",
     "text": [
      "513\n",
      "513\n",
      "513\n"
     ]
    }
   ],
   "source": [
    "print(np.isnan(model_outputs[0]).sum())\n",
    "print(np.isnan(model_outputs[1]).sum())\n",
    "print(np.isnan(model_outputs[2]).sum())"
   ]
  },
  {
   "cell_type": "code",
   "execution_count": 43,
   "id": "0acb8020-1c71-42f2-86a3-83d61c57455c",
   "metadata": {},
   "outputs": [
    {
     "name": "stdout",
     "output_type": "stream",
     "text": [
      "513 0\n"
     ]
    }
   ],
   "source": [
    "print(np.isnan(model_outputs[0]).sum(), np.isinf(model_outputs[0]).sum())"
   ]
  },
  {
   "cell_type": "code",
   "execution_count": 44,
   "id": "47fc7419-d02f-49ee-a6e7-dbf962d16041",
   "metadata": {},
   "outputs": [
    {
     "data": {
      "text/plain": [
       "tensor(nan)"
      ]
     },
     "execution_count": 44,
     "metadata": {},
     "output_type": "execute_result"
    }
   ],
   "source": [
    "# prediction from torch\n",
    "# mean\n",
    "import torch\n",
    "# Convert to torch tensors if needed\n",
    "alphas_torch = torch.from_numpy(alphas)\n",
    "mus_torch = torch.from_numpy(mus)\n",
    "torch.sum(alphas_torch * mus_torch)"
   ]
  },
  {
   "cell_type": "code",
   "execution_count": null,
   "id": "5de88585-ba5d-4058-b6fb-d96947a59c5f",
   "metadata": {},
   "outputs": [],
   "source": [
    "output_weights = model_outputs[2]\n",
    "\n",
    "output_means = 10**model_outputs[0]\n",
    "max_mode_indices = np.argmax(output_weights, axis=1)\n",
    "predicted_values = output_means[np.arange(output_means.shape[0]), max_mode_indices]\n",
    "df['clusterE_ML'] = predicted_values"
   ]
  },
  {
   "cell_type": "code",
   "execution_count": null,
   "id": "fdd4c7bb-958f-455c-bf57-f8fc4ea472c4",
   "metadata": {},
   "outputs": [
    {
     "name": "stdout",
     "output_type": "stream",
     "text": [
      "FeatureProcessor initialized successfully.\n",
      "\n",
      "Applying transformations to 13565 rows...\n",
      "  - Processing column 'clusterE'...\n",
      "    - Applied 'LogTenStandard' successfully.\n",
      "  - Processing column 'clusterEta'...\n",
      "    - Applied 'Standard' successfully.\n",
      "  - Processing column 'cluster_SIGNIFICANCE'...\n",
      "    - Applied 'LogTenStandard' successfully.\n",
      "  - Processing column 'cluster_time'...\n",
      "    - Applied 'MaxAbsolute' successfully.\n",
      "  - Processing column 'cluster_SECOND_TIME'...\n",
      "    - Applied 'LogTenStandard' successfully.\n",
      "  - Processing column 'cluster_CENTER_LAMBDA'...\n",
      "    - Applied 'LogTenStandard' successfully.\n",
      "  - Processing column 'cluster_CENTER_MAG'...\n",
      "    - Applied 'Standard' successfully.\n",
      "  - Processing column 'cluster_ENG_FRAC_EM'...\n",
      "    - Applied 'Standard' successfully.\n",
      "  - Processing column 'cluster_FIRST_ENG_DENS'...\n",
      "    - Applied 'LogTenStandard' successfully.\n",
      "  - Processing column 'cluster_LONGITUDINAL'...\n",
      "    - Applied 'Standard' successfully.\n",
      "  - Processing column 'cluster_LATERAL'...\n",
      "    - Applied 'Standard' successfully.\n",
      "  - Processing column 'cluster_PTD'...\n",
      "    - Applied 'Standard' successfully.\n",
      "  - Processing column 'cluster_ISOLATION'...\n",
      "    - Applied 'Standard' successfully.\n",
      "  - Processing column 'nPrimVtx'...\n",
      "    - Applied 'Standard' successfully.\n",
      "  - Processing column 'avgMu'...\n",
      "    - Applied 'Standard' successfully.\n",
      "\n",
      "Transformations complete.\n",
      "\n",
      "--- Running ONNX Inference ---\n",
      "Model: /mnt/nvme0n1p4/CLion-Pycharm-Projects/PycharmProjects/Onnx-Inference/CaloML/HGM_3.model-03-12-2025.onnx\n",
      "Input features ordered by index: ['clusterE', 'clusterEta', 'cluster_SIGNIFICANCE', 'cluster_time', 'cluster_SECOND_TIME', 'cluster_CENTER_LAMBDA', 'cluster_CENTER_MAG', 'cluster_ENG_FRAC_EM', 'cluster_FIRST_ENG_DENS', 'cluster_LONGITUDINAL', 'cluster_LATERAL', 'cluster_PTD', 'cluster_ISOLATION', 'nPrimVtx', 'avgMu']\n",
      "Input tensor shape: (13565, 15)\n",
      "Inference complete.\n"
     ]
    },
    {
     "name": "stderr",
     "output_type": "stream",
     "text": [
      "/mnt/nvme0n1p4/CLion-Pycharm-Projects/PycharmProjects/Onnx-Inference/venv/lib/python3.13/site-packages/pandas/core/arraylike.py:399: RuntimeWarning: invalid value encountered in log10\n",
      "  result = getattr(ufunc, method)(*inputs, **kwargs)\n"
     ]
    }
   ],
   "source": []
  },
  {
   "cell_type": "code",
   "execution_count": 17,
   "id": "7cb52907",
   "metadata": {},
   "outputs": [
    {
     "ename": "NameError",
     "evalue": "name 'output_means' is not defined",
     "output_type": "error",
     "traceback": [
      "\u001b[31m---------------------------------------------------------------------------\u001b[39m",
      "\u001b[31mNameError\u001b[39m                                 Traceback (most recent call last)",
      "\u001b[36mCell\u001b[39m\u001b[36m \u001b[39m\u001b[32mIn[17]\u001b[39m\u001b[32m, line 1\u001b[39m\n\u001b[32m----> \u001b[39m\u001b[32m1\u001b[39m \u001b[43moutput_means\u001b[49m.shape\n",
      "\u001b[31mNameError\u001b[39m: name 'output_means' is not defined"
     ]
    }
   ],
   "source": [
    "output_means.shape"
   ]
  },
  {
   "cell_type": "code",
   "execution_count": 7,
   "id": "18468f59",
   "metadata": {},
   "outputs": [
    {
     "data": {
      "text/html": [
       "<div>\n",
       "<style scoped>\n",
       "    .dataframe tbody tr th:only-of-type {\n",
       "        vertical-align: middle;\n",
       "    }\n",
       "\n",
       "    .dataframe tbody tr th {\n",
       "        vertical-align: top;\n",
       "    }\n",
       "\n",
       "    .dataframe thead th {\n",
       "        text-align: right;\n",
       "    }\n",
       "</style>\n",
       "<table border=\"1\" class=\"dataframe\">\n",
       "  <thead>\n",
       "    <tr style=\"text-align: right;\">\n",
       "      <th></th>\n",
       "      <th>clusterE</th>\n",
       "      <th>clusterE_LCW</th>\n",
       "      <th>clusterE_Truth</th>\n",
       "      <th>clusterEta</th>\n",
       "      <th>cluster_SIGNIFICANCE</th>\n",
       "      <th>cluster_time</th>\n",
       "      <th>cluster_SECOND_TIME</th>\n",
       "      <th>cluster_CENTER_LAMBDA</th>\n",
       "      <th>cluster_CENTER_MAG</th>\n",
       "      <th>cluster_ENG_FRAC_EM</th>\n",
       "      <th>cluster_FIRST_ENG_DENS</th>\n",
       "      <th>cluster_LONGITUDINAL</th>\n",
       "      <th>cluster_LATERAL</th>\n",
       "      <th>cluster_PTD</th>\n",
       "      <th>cluster_ISOLATION</th>\n",
       "      <th>nPrimVtx</th>\n",
       "      <th>avgMu</th>\n",
       "      <th>clusterE_ML</th>\n",
       "    </tr>\n",
       "  </thead>\n",
       "  <tbody>\n",
       "    <tr>\n",
       "      <th>0</th>\n",
       "      <td>16.499309</td>\n",
       "      <td>22.967885</td>\n",
       "      <td>16166.611328</td>\n",
       "      <td>1.874702</td>\n",
       "      <td>82.801994</td>\n",
       "      <td>0.102387</td>\n",
       "      <td>0.046077</td>\n",
       "      <td>256.037323</td>\n",
       "      <td>4177.289551</td>\n",
       "      <td>1.000000</td>\n",
       "      <td>0.020791</td>\n",
       "      <td>0.244089</td>\n",
       "      <td>0.399780</td>\n",
       "      <td>0.635285</td>\n",
       "      <td>0.880452</td>\n",
       "      <td>3</td>\n",
       "      <td>0.0</td>\n",
       "      <td>1.657825</td>\n",
       "    </tr>\n",
       "    <tr>\n",
       "      <th>1</th>\n",
       "      <td>9.138374</td>\n",
       "      <td>13.189838</td>\n",
       "      <td>7197.510254</td>\n",
       "      <td>1.788090</td>\n",
       "      <td>20.072351</td>\n",
       "      <td>0.133287</td>\n",
       "      <td>0.781234</td>\n",
       "      <td>102.551758</td>\n",
       "      <td>4066.940918</td>\n",
       "      <td>0.846218</td>\n",
       "      <td>0.007591</td>\n",
       "      <td>0.798493</td>\n",
       "      <td>0.785001</td>\n",
       "      <td>0.244286</td>\n",
       "      <td>0.951204</td>\n",
       "      <td>3</td>\n",
       "      <td>0.0</td>\n",
       "      <td>2.926821</td>\n",
       "    </tr>\n",
       "    <tr>\n",
       "      <th>2</th>\n",
       "      <td>2.748852</td>\n",
       "      <td>4.042329</td>\n",
       "      <td>2678.146729</td>\n",
       "      <td>0.399391</td>\n",
       "      <td>9.035995</td>\n",
       "      <td>1.206650</td>\n",
       "      <td>0.331080</td>\n",
       "      <td>1005.168762</td>\n",
       "      <td>2623.692383</td>\n",
       "      <td>0.058387</td>\n",
       "      <td>0.000053</td>\n",
       "      <td>0.739138</td>\n",
       "      <td>0.543075</td>\n",
       "      <td>0.555546</td>\n",
       "      <td>0.835458</td>\n",
       "      <td>3</td>\n",
       "      <td>0.0</td>\n",
       "      <td>13.469419</td>\n",
       "    </tr>\n",
       "    <tr>\n",
       "      <th>3</th>\n",
       "      <td>3.375970</td>\n",
       "      <td>6.719827</td>\n",
       "      <td>2839.731201</td>\n",
       "      <td>1.105703</td>\n",
       "      <td>11.350155</td>\n",
       "      <td>0.203049</td>\n",
       "      <td>19.057089</td>\n",
       "      <td>312.104462</td>\n",
       "      <td>2783.903320</td>\n",
       "      <td>0.920799</td>\n",
       "      <td>0.000500</td>\n",
       "      <td>0.834718</td>\n",
       "      <td>0.816080</td>\n",
       "      <td>0.334258</td>\n",
       "      <td>0.746926</td>\n",
       "      <td>3</td>\n",
       "      <td>0.0</td>\n",
       "      <td>1.538912</td>\n",
       "    </tr>\n",
       "    <tr>\n",
       "      <th>4</th>\n",
       "      <td>2.404664</td>\n",
       "      <td>4.596327</td>\n",
       "      <td>2574.151123</td>\n",
       "      <td>1.009612</td>\n",
       "      <td>8.215182</td>\n",
       "      <td>3.097960</td>\n",
       "      <td>30.369579</td>\n",
       "      <td>284.807587</td>\n",
       "      <td>2590.650879</td>\n",
       "      <td>1.000000</td>\n",
       "      <td>0.000565</td>\n",
       "      <td>0.812865</td>\n",
       "      <td>0.715392</td>\n",
       "      <td>0.345916</td>\n",
       "      <td>1.000000</td>\n",
       "      <td>3</td>\n",
       "      <td>0.0</td>\n",
       "      <td>1.293431</td>\n",
       "    </tr>\n",
       "  </tbody>\n",
       "</table>\n",
       "</div>"
      ],
      "text/plain": [
       "    clusterE  clusterE_LCW  clusterE_Truth  clusterEta  cluster_SIGNIFICANCE  \\\n",
       "0  16.499309     22.967885    16166.611328    1.874702             82.801994   \n",
       "1   9.138374     13.189838     7197.510254    1.788090             20.072351   \n",
       "2   2.748852      4.042329     2678.146729    0.399391              9.035995   \n",
       "3   3.375970      6.719827     2839.731201    1.105703             11.350155   \n",
       "4   2.404664      4.596327     2574.151123    1.009612              8.215182   \n",
       "\n",
       "   cluster_time  cluster_SECOND_TIME  cluster_CENTER_LAMBDA  \\\n",
       "0      0.102387             0.046077             256.037323   \n",
       "1      0.133287             0.781234             102.551758   \n",
       "2      1.206650             0.331080            1005.168762   \n",
       "3      0.203049            19.057089             312.104462   \n",
       "4      3.097960            30.369579             284.807587   \n",
       "\n",
       "   cluster_CENTER_MAG  cluster_ENG_FRAC_EM  cluster_FIRST_ENG_DENS  \\\n",
       "0         4177.289551             1.000000                0.020791   \n",
       "1         4066.940918             0.846218                0.007591   \n",
       "2         2623.692383             0.058387                0.000053   \n",
       "3         2783.903320             0.920799                0.000500   \n",
       "4         2590.650879             1.000000                0.000565   \n",
       "\n",
       "   cluster_LONGITUDINAL  cluster_LATERAL  cluster_PTD  cluster_ISOLATION  \\\n",
       "0              0.244089         0.399780     0.635285           0.880452   \n",
       "1              0.798493         0.785001     0.244286           0.951204   \n",
       "2              0.739138         0.543075     0.555546           0.835458   \n",
       "3              0.834718         0.816080     0.334258           0.746926   \n",
       "4              0.812865         0.715392     0.345916           1.000000   \n",
       "\n",
       "   nPrimVtx  avgMu  clusterE_ML  \n",
       "0         3    0.0     1.657825  \n",
       "1         3    0.0     2.926821  \n",
       "2         3    0.0    13.469419  \n",
       "3         3    0.0     1.538912  \n",
       "4         3    0.0     1.293431  "
      ]
     },
     "execution_count": 7,
     "metadata": {},
     "output_type": "execute_result"
    }
   ],
   "source": [
    "df.head()"
   ]
  },
  {
   "cell_type": "code",
   "execution_count": 10,
   "id": "9131fa74",
   "metadata": {},
   "outputs": [],
   "source": [
    "mplhep.style.use('ATLAS')"
   ]
  },
  {
   "cell_type": "code",
   "execution_count": 11,
   "id": "862a0c2e",
   "metadata": {},
   "outputs": [
    {
     "data": {
      "text/plain": [
       "(exptext: Custom Text(0.05, 0.95, 'ATLAS'),\n",
       " expsuffix: Custom Text(0.05, 0.955, 'Simulation Preliminary'),\n",
       " supptext: Custom Text(0.05, 0.95, ''),\n",
       " expsuffix: Custom Text(0.05, 0.95, '$\\\\sqrt{s} = \\\\mathrm{13\\\\ TeV}$'))"
      ]
     },
     "execution_count": 11,
     "metadata": {},
     "output_type": "execute_result"
    },
    {
     "data": {
      "image/png": "[encoded data removed]",
      "text/plain": [
       "<Figure size 800x600 with 1 Axes>"
      ]
     },
     "metadata": {},
     "output_type": "display_data"
    }
   ],
   "source": [
    "fig, ax = plt.subplots()\n",
    "ax.hist(df['clusterE_Truth']/1000, range=(-1,19), bins=100, histtype='step', label='Truth/1000')\n",
    "ax.hist(df['clusterE_LCW'], range=(-1,19), bins=100, histtype='step', label='LCW')\n",
    "ax.hist(df['clusterE_ML'], range=(-1,19), bins=100, histtype='step', label='ML')\n",
    "ax.legend()\n",
    "ax.set_ylim(0, 2000)\n",
    "ax.set_xlabel('Cluster energy [GeV]')\n",
    "ax.set_ylabel('Number of clusters')\n",
    "mplhep.atlas.label('Preliminary', data=False, ax=ax)"
   ]
  },
  {
   "cell_type": "code",
   "execution_count": null,
   "id": "8c1a74ba",
   "metadata": {},
   "outputs": [],
   "source": []
  }
 ],
 "metadata": {
  "kernelspec": {
   "display_name": "Python 3 (ipykernel)",
   "language": "python",
   "name": "python3"
  },
  "language_info": {
   "codemirror_mode": {
    "name": "ipython",
    "version": 3
   },
   "file_extension": ".py",
   "mimetype": "text/x-python",
   "name": "python",
   "nbconvert_exporter": "python",
   "pygments_lexer": "ipython3",
   "version": "3.13.3"
  }
 },
 "nbformat": 4,
 "nbformat_minor": 5
}
