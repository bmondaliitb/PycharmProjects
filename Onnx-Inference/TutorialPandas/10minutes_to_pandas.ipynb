{
 "cells": [
  {
   "cell_type": "code",
   "execution_count": 6,
   "id": "5004e979-cae6-4b22-ac51-901675199424",
   "metadata": {},
   "outputs": [],
   "source": [
    "# tutorial link: https://pandas.pydata.org/docs/user_guide/10min.html\n",
    "import numpy as np\n",
    "import pandas as pd"
   ]
  },
  {
   "cell_type": "code",
   "execution_count": 7,
   "id": "e6af0866-665b-4e05-9e44-baef8223efb1",
   "metadata": {},
   "outputs": [
    {
     "name": "stdout",
     "output_type": "stream",
     "text": [
      "0    1.0\n",
      "1    3.0\n",
      "2    5.0\n",
      "3    NaN\n",
      "4    6.0\n",
      "5    8.0\n",
      "dtype: float64\n"
     ]
    }
   ],
   "source": [
    "# there are two types of data structures in pandas\n",
    "# two classes handle those\n",
    "# Series for 1D data\n",
    "# DataFrame for 2D data\n",
    "s = pd.Series([1,3,5,np.nan,6,8])\n",
    "print(s)"
   ]
  },
  {
   "cell_type": "code",
   "execution_count": 8,
   "id": "1110d10a-7135-49b3-9c8d-c7e3ffe8e076",
   "metadata": {},
   "outputs": [
    {
     "name": "stdout",
     "output_type": "stream",
     "text": [
      "DatetimeIndex(['2025-08-20', '2025-08-21', '2025-08-22', '2025-08-23',\n",
      "               '2025-08-24', '2025-08-25'],\n",
      "              dtype='datetime64[ns]', freq='D')\n"
     ]
    }
   ],
   "source": [
    "# creating dataframe by passing a NumPy array with datetime index using date_range() and labeled colums\n",
    "dates = pd.date_range(\"20250820\", periods=6)\n",
    "print(dates)"
   ]
  },
  {
   "cell_type": "code",
   "execution_count": 9,
   "id": "0c6190ea-1322-40b7-b3ac-9d6e39431b04",
   "metadata": {},
   "outputs": [
    {
     "name": "stdout",
     "output_type": "stream",
     "text": [
      "                   A         B         C         D\n",
      "2025-08-20 -1.238847  1.001248  1.042154  1.156370\n",
      "2025-08-21  1.047504 -0.247127 -1.294779 -0.161616\n",
      "2025-08-22 -1.172611 -0.171024  1.455082  1.254268\n",
      "2025-08-23 -1.182253 -0.206135 -0.973165  1.484013\n",
      "2025-08-24 -2.117772 -0.723084 -2.158338  0.892467\n",
      "2025-08-25  0.166884  0.019090  0.361152 -1.884947\n"
     ]
    }
   ],
   "source": [
    "# makeing this a dataframe\n",
    "df = pd.DataFrame(np.random.randn(6,4), index=dates, columns=list(\"ABCD\"))\n",
    "print(df)"
   ]
  },
  {
   "cell_type": "code",
   "execution_count": 10,
   "id": "71ae7878-8ead-4482-915d-54152fe4e61f",
   "metadata": {},
   "outputs": [
    {
     "name": "stdout",
     "output_type": "stream",
     "text": [
      "     A          B    C  D Copy      E    F  G\n",
      "0  1.0 2025-08-20  1.0  3  bla   test  foo  3\n",
      "1  1.0 2025-08-20  1.0  3  bla  train  foo  3\n",
      "2  1.0 2025-08-20  1.0  3  bla   test  foo  3\n",
      "3  1.0 2025-08-20  1.0  3  bla  train  foo  3\n"
     ]
    }
   ],
   "source": [
    "# creating a DataFrame by passing a dictionary of objects where the keys are colum lebels and the values are the column values\n",
    "df2 = pd.DataFrame(\n",
    "    {\n",
    "        \"A\": 1.0,\n",
    "        \"B\": pd.Timestamp(\"20250820\"),\n",
    "        \"C\": pd.Series(1, index=list(range(4)), dtype=\"float32\"),\n",
    "        \"D\": np.array([3]*4, dtype=\"int32\"),\n",
    "        \"Copy\": np.array([\"bla\"]*4, dtype=\"str\"),\n",
    "        \"E\": pd.Categorical([\"test\", \"train\", \"test\", \"train\"]),\n",
    "        \"F\": \"foo\",\n",
    "        \"G\": 3\n",
    "    }\n",
    ")\n",
    "print(df2)"
   ]
  },
  {
   "cell_type": "code",
   "execution_count": 11,
   "id": "753635dc-dbdd-47d2-858f-f632b281005a",
   "metadata": {},
   "outputs": [
    {
     "name": "stdout",
     "output_type": "stream",
     "text": [
      "A             float64\n",
      "B       datetime64[s]\n",
      "C             float32\n",
      "D               int32\n",
      "Copy           object\n",
      "E            category\n",
      "F              object\n",
      "G               int64\n",
      "dtype: object\n"
     ]
    }
   ],
   "source": [
    "# column of the DataFrame has different datatypes\n",
    "print(df2.dtypes)"
   ]
  },
  {
   "cell_type": "code",
   "execution_count": 12,
   "id": "61c3e6e5-e872-4dee-8198-b2b7eddfa292",
   "metadata": {},
   "outputs": [
    {
     "name": "stdout",
     "output_type": "stream",
     "text": [
      "                   A         B         C         D\n",
      "2025-08-20 -1.238847  1.001248  1.042154  1.156370\n",
      "2025-08-21  1.047504 -0.247127 -1.294779 -0.161616\n",
      "2025-08-22 -1.172611 -0.171024  1.455082  1.254268\n",
      "2025-08-23 -1.182253 -0.206135 -0.973165  1.484013\n",
      "2025-08-24 -2.117772 -0.723084 -2.158338  0.892467\n",
      "                   A         B         C         D\n",
      "2025-08-23 -1.182253 -0.206135 -0.973165  1.484013\n",
      "2025-08-24 -2.117772 -0.723084 -2.158338  0.892467\n",
      "2025-08-25  0.166884  0.019090  0.361152 -1.884947\n"
     ]
    }
   ],
   "source": [
    "# Viewing data\n",
    "# Use DataFrame.head() and DataFrame.tail() to view the top and bottom rows of the frame\n",
    "print(df.head())\n",
    "print(df.tail(3))"
   ]
  },
  {
   "cell_type": "code",
   "execution_count": 13,
   "id": "09b38cc8-68d9-49e2-8b3f-c6cddbb50068",
   "metadata": {},
   "outputs": [
    {
     "name": "stdout",
     "output_type": "stream",
     "text": [
      "DatetimeIndex(['2025-08-20', '2025-08-21', '2025-08-22', '2025-08-23',\n",
      "               '2025-08-24', '2025-08-25'],\n",
      "              dtype='datetime64[ns]', freq='D')\n",
      "Index(['A', 'B', 'C', 'D'], dtype='object')\n"
     ]
    }
   ],
   "source": [
    "# Display DataFrame.index or DataFrame.columns\n",
    "print(df.index)\n",
    "print(df.columns)"
   ]
  },
  {
   "cell_type": "code",
   "execution_count": 14,
   "id": "1138e96e-f049-484f-a2aa-dfd0c9a951eb",
   "metadata": {},
   "outputs": [
    {
     "name": "stdout",
     "output_type": "stream",
     "text": [
      "[[-1.23884727  1.00124791  1.04215356  1.15637   ]\n",
      " [ 1.04750388 -0.24712725 -1.29477879 -0.16161627]\n",
      " [-1.17261083 -0.17102449  1.45508165  1.25426762]\n",
      " [-1.18225279 -0.20613548 -0.97316487  1.48401285]\n",
      " [-2.11777244 -0.72308379 -2.15833781  0.8924671 ]\n",
      " [ 0.16688415  0.01909007  0.36115157 -1.88494676]]\n"
     ]
    }
   ],
   "source": [
    "# return to numpy representation of the underlying data with DataFrame.to_numpy() without the index or column labels\n",
    "numpy_arr = df.to_numpy()\n",
    "print(numpy_arr)"
   ]
  },
  {
   "cell_type": "code",
   "execution_count": 15,
   "id": "846d81ce-c766-4441-abe3-d43824db3f2e",
   "metadata": {},
   "outputs": [
    {
     "name": "stdout",
     "output_type": "stream",
     "text": [
      "[[1.0 Timestamp('2025-08-20 00:00:00') 1.0 3 'bla' 'test' 'foo' 3]\n",
      " [1.0 Timestamp('2025-08-20 00:00:00') 1.0 3 'bla' 'train' 'foo' 3]\n",
      " [1.0 Timestamp('2025-08-20 00:00:00') 1.0 3 'bla' 'test' 'foo' 3]\n",
      " [1.0 Timestamp('2025-08-20 00:00:00') 1.0 3 'bla' 'train' 'foo' 3]]\n"
     ]
    },
    {
     "data": {
      "text/plain": [
       "array([[1.0, Timestamp('2025-08-20 00:00:00'), 1.0, 3, 'bla', 'test',\n",
       "        'foo', 3],\n",
       "       [1.0, Timestamp('2025-08-20 00:00:00'), 1.0, 3, 'bla', 'train',\n",
       "        'foo', 3],\n",
       "       [1.0, Timestamp('2025-08-20 00:00:00'), 1.0, 3, 'bla', 'test',\n",
       "        'foo', 3],\n",
       "       [1.0, Timestamp('2025-08-20 00:00:00'), 1.0, 3, 'bla', 'train',\n",
       "        'foo', 3]], dtype=object)"
      ]
     },
     "execution_count": 15,
     "metadata": {},
     "output_type": "execute_result"
    }
   ],
   "source": [
    "# NumPy arrays have one dtype for the entire array while pandas DataFrames have one dtype per column.\n",
    "# When you call DataFrame.to_numpy(), pandas will find the NumPy dtype that can hold all of the dtypes in the DataFrame. \n",
    "# If the common data type is object, DataFrame.to_numpy() will require copying data.\n",
    "\n",
    "# for example df2 holds different data types\n",
    "numpy_arr_from_df2 = df2.to_numpy()\n",
    "print(numpy_arr_from_df2)\n",
    "df2.to_numpy() # notice data type is object"
   ]
  },
  {
   "cell_type": "code",
   "execution_count": 16,
   "id": "6d9bb5b6-b3ff-44d7-914f-af7e1f1e1c8a",
   "metadata": {},
   "outputs": [
    {
     "name": "stdout",
     "output_type": "stream",
     "text": [
      "              A         B         C         D\n",
      "count  6.000000  6.000000  6.000000  6.000000\n",
      "mean  -0.749516 -0.054506 -0.261316  0.456759\n",
      "std    1.144282  0.572835  1.428705  1.283475\n",
      "min   -2.117772 -0.723084 -2.158338 -1.884947\n",
      "25%   -1.224699 -0.236879 -1.214375  0.101905\n",
      "50%   -1.177432 -0.188580 -0.306007  1.024419\n",
      "75%   -0.167990 -0.028439  0.871903  1.229793\n",
      "max    1.047504  1.001248  1.455082  1.484013\n"
     ]
    }
   ],
   "source": [
    "# DataFrame.describe() shows quick statistic summary of data\n",
    "print(df.describe())"
   ]
  },
  {
   "cell_type": "code",
   "execution_count": 17,
   "id": "9935417d-8d87-4751-97b3-9878b900902d",
   "metadata": {},
   "outputs": [
    {
     "data": {
      "text/html": [
       "<div>\n",
       "<style scoped>\n",
       "    .dataframe tbody tr th:only-of-type {\n",
       "        vertical-align: middle;\n",
       "    }\n",
       "\n",
       "    .dataframe tbody tr th {\n",
       "        vertical-align: top;\n",
       "    }\n",
       "\n",
       "    .dataframe thead th {\n",
       "        text-align: right;\n",
       "    }\n",
       "</style>\n",
       "<table border=\"1\" class=\"dataframe\">\n",
       "  <thead>\n",
       "    <tr style=\"text-align: right;\">\n",
       "      <th></th>\n",
       "      <th>2025-08-20</th>\n",
       "      <th>2025-08-21</th>\n",
       "      <th>2025-08-22</th>\n",
       "      <th>2025-08-23</th>\n",
       "      <th>2025-08-24</th>\n",
       "      <th>2025-08-25</th>\n",
       "    </tr>\n",
       "  </thead>\n",
       "  <tbody>\n",
       "    <tr>\n",
       "      <th>A</th>\n",
       "      <td>-1.238847</td>\n",
       "      <td>1.047504</td>\n",
       "      <td>-1.172611</td>\n",
       "      <td>-1.182253</td>\n",
       "      <td>-2.117772</td>\n",
       "      <td>0.166884</td>\n",
       "    </tr>\n",
       "    <tr>\n",
       "      <th>B</th>\n",
       "      <td>1.001248</td>\n",
       "      <td>-0.247127</td>\n",
       "      <td>-0.171024</td>\n",
       "      <td>-0.206135</td>\n",
       "      <td>-0.723084</td>\n",
       "      <td>0.019090</td>\n",
       "    </tr>\n",
       "    <tr>\n",
       "      <th>C</th>\n",
       "      <td>1.042154</td>\n",
       "      <td>-1.294779</td>\n",
       "      <td>1.455082</td>\n",
       "      <td>-0.973165</td>\n",
       "      <td>-2.158338</td>\n",
       "      <td>0.361152</td>\n",
       "    </tr>\n",
       "    <tr>\n",
       "      <th>D</th>\n",
       "      <td>1.156370</td>\n",
       "      <td>-0.161616</td>\n",
       "      <td>1.254268</td>\n",
       "      <td>1.484013</td>\n",
       "      <td>0.892467</td>\n",
       "      <td>-1.884947</td>\n",
       "    </tr>\n",
       "  </tbody>\n",
       "</table>\n",
       "</div>"
      ],
      "text/plain": [
       "   2025-08-20  2025-08-21  2025-08-22  2025-08-23  2025-08-24  2025-08-25\n",
       "A   -1.238847    1.047504   -1.172611   -1.182253   -2.117772    0.166884\n",
       "B    1.001248   -0.247127   -0.171024   -0.206135   -0.723084    0.019090\n",
       "C    1.042154   -1.294779    1.455082   -0.973165   -2.158338    0.361152\n",
       "D    1.156370   -0.161616    1.254268    1.484013    0.892467   -1.884947"
      ]
     },
     "execution_count": 17,
     "metadata": {},
     "output_type": "execute_result"
    }
   ],
   "source": [
    "# Transposing data\n",
    "df.T"
   ]
  },
  {
   "cell_type": "code",
   "execution_count": 18,
   "id": "278061de-f44d-47fb-b395-84e7093eae47",
   "metadata": {},
   "outputs": [
    {
     "data": {
      "text/html": [
       "<div>\n",
       "<style scoped>\n",
       "    .dataframe tbody tr th:only-of-type {\n",
       "        vertical-align: middle;\n",
       "    }\n",
       "\n",
       "    .dataframe tbody tr th {\n",
       "        vertical-align: top;\n",
       "    }\n",
       "\n",
       "    .dataframe thead th {\n",
       "        text-align: right;\n",
       "    }\n",
       "</style>\n",
       "<table border=\"1\" class=\"dataframe\">\n",
       "  <thead>\n",
       "    <tr style=\"text-align: right;\">\n",
       "      <th></th>\n",
       "      <th>A</th>\n",
       "      <th>B</th>\n",
       "      <th>C</th>\n",
       "      <th>D</th>\n",
       "    </tr>\n",
       "  </thead>\n",
       "  <tbody>\n",
       "    <tr>\n",
       "      <th>2025-08-20</th>\n",
       "      <td>-1.238847</td>\n",
       "      <td>1.001248</td>\n",
       "      <td>1.042154</td>\n",
       "      <td>1.156370</td>\n",
       "    </tr>\n",
       "    <tr>\n",
       "      <th>2025-08-21</th>\n",
       "      <td>1.047504</td>\n",
       "      <td>-0.247127</td>\n",
       "      <td>-1.294779</td>\n",
       "      <td>-0.161616</td>\n",
       "    </tr>\n",
       "    <tr>\n",
       "      <th>2025-08-22</th>\n",
       "      <td>-1.172611</td>\n",
       "      <td>-0.171024</td>\n",
       "      <td>1.455082</td>\n",
       "      <td>1.254268</td>\n",
       "    </tr>\n",
       "    <tr>\n",
       "      <th>2025-08-23</th>\n",
       "      <td>-1.182253</td>\n",
       "      <td>-0.206135</td>\n",
       "      <td>-0.973165</td>\n",
       "      <td>1.484013</td>\n",
       "    </tr>\n",
       "    <tr>\n",
       "      <th>2025-08-24</th>\n",
       "      <td>-2.117772</td>\n",
       "      <td>-0.723084</td>\n",
       "      <td>-2.158338</td>\n",
       "      <td>0.892467</td>\n",
       "    </tr>\n",
       "    <tr>\n",
       "      <th>2025-08-25</th>\n",
       "      <td>0.166884</td>\n",
       "      <td>0.019090</td>\n",
       "      <td>0.361152</td>\n",
       "      <td>-1.884947</td>\n",
       "    </tr>\n",
       "  </tbody>\n",
       "</table>\n",
       "</div>"
      ],
      "text/plain": [
       "                   A         B         C         D\n",
       "2025-08-20 -1.238847  1.001248  1.042154  1.156370\n",
       "2025-08-21  1.047504 -0.247127 -1.294779 -0.161616\n",
       "2025-08-22 -1.172611 -0.171024  1.455082  1.254268\n",
       "2025-08-23 -1.182253 -0.206135 -0.973165  1.484013\n",
       "2025-08-24 -2.117772 -0.723084 -2.158338  0.892467\n",
       "2025-08-25  0.166884  0.019090  0.361152 -1.884947"
      ]
     },
     "execution_count": 18,
     "metadata": {},
     "output_type": "execute_result"
    }
   ],
   "source": [
    "# DataFrame.sort_index() shorts by an axis\n",
    "df.sort_index(axis=0, ascending=True) # axis = 0 represents row and 1 represent column"
   ]
  },
  {
   "cell_type": "code",
   "execution_count": 19,
   "id": "4d172c89-3b59-433f-a156-dae5b3e547f3",
   "metadata": {},
   "outputs": [
    {
     "data": {
      "text/html": [
       "<div>\n",
       "<style scoped>\n",
       "    .dataframe tbody tr th:only-of-type {\n",
       "        vertical-align: middle;\n",
       "    }\n",
       "\n",
       "    .dataframe tbody tr th {\n",
       "        vertical-align: top;\n",
       "    }\n",
       "\n",
       "    .dataframe thead th {\n",
       "        text-align: right;\n",
       "    }\n",
       "</style>\n",
       "<table border=\"1\" class=\"dataframe\">\n",
       "  <thead>\n",
       "    <tr style=\"text-align: right;\">\n",
       "      <th></th>\n",
       "      <th>A</th>\n",
       "      <th>B</th>\n",
       "      <th>C</th>\n",
       "      <th>D</th>\n",
       "    </tr>\n",
       "  </thead>\n",
       "  <tbody>\n",
       "    <tr>\n",
       "      <th>2025-08-20</th>\n",
       "      <td>-1.238847</td>\n",
       "      <td>1.001248</td>\n",
       "      <td>1.042154</td>\n",
       "      <td>1.156370</td>\n",
       "    </tr>\n",
       "    <tr>\n",
       "      <th>2025-08-25</th>\n",
       "      <td>0.166884</td>\n",
       "      <td>0.019090</td>\n",
       "      <td>0.361152</td>\n",
       "      <td>-1.884947</td>\n",
       "    </tr>\n",
       "    <tr>\n",
       "      <th>2025-08-22</th>\n",
       "      <td>-1.172611</td>\n",
       "      <td>-0.171024</td>\n",
       "      <td>1.455082</td>\n",
       "      <td>1.254268</td>\n",
       "    </tr>\n",
       "    <tr>\n",
       "      <th>2025-08-23</th>\n",
       "      <td>-1.182253</td>\n",
       "      <td>-0.206135</td>\n",
       "      <td>-0.973165</td>\n",
       "      <td>1.484013</td>\n",
       "    </tr>\n",
       "    <tr>\n",
       "      <th>2025-08-21</th>\n",
       "      <td>1.047504</td>\n",
       "      <td>-0.247127</td>\n",
       "      <td>-1.294779</td>\n",
       "      <td>-0.161616</td>\n",
       "    </tr>\n",
       "    <tr>\n",
       "      <th>2025-08-24</th>\n",
       "      <td>-2.117772</td>\n",
       "      <td>-0.723084</td>\n",
       "      <td>-2.158338</td>\n",
       "      <td>0.892467</td>\n",
       "    </tr>\n",
       "  </tbody>\n",
       "</table>\n",
       "</div>"
      ],
      "text/plain": [
       "                   A         B         C         D\n",
       "2025-08-20 -1.238847  1.001248  1.042154  1.156370\n",
       "2025-08-25  0.166884  0.019090  0.361152 -1.884947\n",
       "2025-08-22 -1.172611 -0.171024  1.455082  1.254268\n",
       "2025-08-23 -1.182253 -0.206135 -0.973165  1.484013\n",
       "2025-08-21  1.047504 -0.247127 -1.294779 -0.161616\n",
       "2025-08-24 -2.117772 -0.723084 -2.158338  0.892467"
      ]
     },
     "execution_count": 19,
     "metadata": {},
     "output_type": "execute_result"
    }
   ],
   "source": [
    "# DataFrame.sort_values() sorts by values:\n",
    "df.sort_values(by=\"B\", ascending=False)"
   ]
  },
  {
   "cell_type": "code",
   "execution_count": 20,
   "id": "ff07a6cf-f2d1-44d0-ba7b-84676374be46",
   "metadata": {},
   "outputs": [
    {
     "data": {
      "text/plain": [
       "2025-08-20   -1.238847\n",
       "2025-08-21    1.047504\n",
       "2025-08-22   -1.172611\n",
       "2025-08-23   -1.182253\n",
       "2025-08-24   -2.117772\n",
       "2025-08-25    0.166884\n",
       "Freq: D, Name: A, dtype: float64"
      ]
     },
     "execution_count": 20,
     "metadata": {},
     "output_type": "execute_result"
    }
   ],
   "source": [
    "# Getitem ([])\n",
    "# For a DataFrame, passing a single lebel selects a coluns and yields a Series equivalent to df.A\n",
    "df[\"A\"]"
   ]
  },
  {
   "cell_type": "code",
   "execution_count": 21,
   "id": "24dbd746-6b48-49aa-9de3-b7fd01f8e3fb",
   "metadata": {},
   "outputs": [
    {
     "data": {
      "text/html": [
       "<div>\n",
       "<style scoped>\n",
       "    .dataframe tbody tr th:only-of-type {\n",
       "        vertical-align: middle;\n",
       "    }\n",
       "\n",
       "    .dataframe tbody tr th {\n",
       "        vertical-align: top;\n",
       "    }\n",
       "\n",
       "    .dataframe thead th {\n",
       "        text-align: right;\n",
       "    }\n",
       "</style>\n",
       "<table border=\"1\" class=\"dataframe\">\n",
       "  <thead>\n",
       "    <tr style=\"text-align: right;\">\n",
       "      <th></th>\n",
       "      <th>A</th>\n",
       "      <th>B</th>\n",
       "      <th>C</th>\n",
       "      <th>D</th>\n",
       "    </tr>\n",
       "  </thead>\n",
       "  <tbody>\n",
       "    <tr>\n",
       "      <th>2025-08-21</th>\n",
       "      <td>1.047504</td>\n",
       "      <td>-0.247127</td>\n",
       "      <td>-1.294779</td>\n",
       "      <td>-0.161616</td>\n",
       "    </tr>\n",
       "    <tr>\n",
       "      <th>2025-08-22</th>\n",
       "      <td>-1.172611</td>\n",
       "      <td>-0.171024</td>\n",
       "      <td>1.455082</td>\n",
       "      <td>1.254268</td>\n",
       "    </tr>\n",
       "  </tbody>\n",
       "</table>\n",
       "</div>"
      ],
      "text/plain": [
       "                   A         B         C         D\n",
       "2025-08-21  1.047504 -0.247127 -1.294779 -0.161616\n",
       "2025-08-22 -1.172611 -0.171024  1.455082  1.254268"
      ]
     },
     "execution_count": 21,
     "metadata": {},
     "output_type": "execute_result"
    }
   ],
   "source": [
    "# For a DataFrame, passing a slice : selects matching rows\n",
    "df[1:3]"
   ]
  },
  {
   "cell_type": "code",
   "execution_count": 22,
   "id": "a2617152-aadb-497a-bd56-3767a511ce2b",
   "metadata": {},
   "outputs": [
    {
     "data": {
      "text/html": [
       "<div>\n",
       "<style scoped>\n",
       "    .dataframe tbody tr th:only-of-type {\n",
       "        vertical-align: middle;\n",
       "    }\n",
       "\n",
       "    .dataframe tbody tr th {\n",
       "        vertical-align: top;\n",
       "    }\n",
       "\n",
       "    .dataframe thead th {\n",
       "        text-align: right;\n",
       "    }\n",
       "</style>\n",
       "<table border=\"1\" class=\"dataframe\">\n",
       "  <thead>\n",
       "    <tr style=\"text-align: right;\">\n",
       "      <th></th>\n",
       "      <th>A</th>\n",
       "      <th>B</th>\n",
       "      <th>C</th>\n",
       "      <th>D</th>\n",
       "    </tr>\n",
       "  </thead>\n",
       "  <tbody>\n",
       "    <tr>\n",
       "      <th>2025-08-20</th>\n",
       "      <td>-1.238847</td>\n",
       "      <td>1.001248</td>\n",
       "      <td>1.042154</td>\n",
       "      <td>1.156370</td>\n",
       "    </tr>\n",
       "    <tr>\n",
       "      <th>2025-08-21</th>\n",
       "      <td>1.047504</td>\n",
       "      <td>-0.247127</td>\n",
       "      <td>-1.294779</td>\n",
       "      <td>-0.161616</td>\n",
       "    </tr>\n",
       "    <tr>\n",
       "      <th>2025-08-22</th>\n",
       "      <td>-1.172611</td>\n",
       "      <td>-0.171024</td>\n",
       "      <td>1.455082</td>\n",
       "      <td>1.254268</td>\n",
       "    </tr>\n",
       "  </tbody>\n",
       "</table>\n",
       "</div>"
      ],
      "text/plain": [
       "                   A         B         C         D\n",
       "2025-08-20 -1.238847  1.001248  1.042154  1.156370\n",
       "2025-08-21  1.047504 -0.247127 -1.294779 -0.161616\n",
       "2025-08-22 -1.172611 -0.171024  1.455082  1.254268"
      ]
     },
     "execution_count": 22,
     "metadata": {},
     "output_type": "execute_result"
    }
   ],
   "source": [
    "df[\"20250820\":\"20250822\"]"
   ]
  },
  {
   "cell_type": "code",
   "execution_count": 23,
   "id": "a7987f02-5fec-4b7a-ae21-8b1c31e05e9b",
   "metadata": {},
   "outputs": [
    {
     "data": {
      "text/plain": [
       "A   -1.238847\n",
       "B    1.001248\n",
       "C    1.042154\n",
       "D    1.156370\n",
       "Name: 2025-08-20 00:00:00, dtype: float64"
      ]
     },
     "execution_count": 23,
     "metadata": {},
     "output_type": "execute_result"
    }
   ],
   "source": [
    "# Selection by label\n",
    "# Selecting a row matching a label\n",
    "df.loc[dates[0]]"
   ]
  },
  {
   "cell_type": "code",
   "execution_count": 24,
   "id": "b4d48021-f2f2-4646-a6fe-f704ff4bb802",
   "metadata": {},
   "outputs": [
    {
     "data": {
      "text/html": [
       "<div>\n",
       "<style scoped>\n",
       "    .dataframe tbody tr th:only-of-type {\n",
       "        vertical-align: middle;\n",
       "    }\n",
       "\n",
       "    .dataframe tbody tr th {\n",
       "        vertical-align: top;\n",
       "    }\n",
       "\n",
       "    .dataframe thead th {\n",
       "        text-align: right;\n",
       "    }\n",
       "</style>\n",
       "<table border=\"1\" class=\"dataframe\">\n",
       "  <thead>\n",
       "    <tr style=\"text-align: right;\">\n",
       "      <th></th>\n",
       "      <th>A</th>\n",
       "      <th>C</th>\n",
       "    </tr>\n",
       "  </thead>\n",
       "  <tbody>\n",
       "    <tr>\n",
       "      <th>2025-08-20</th>\n",
       "      <td>-1.238847</td>\n",
       "      <td>1.042154</td>\n",
       "    </tr>\n",
       "    <tr>\n",
       "      <th>2025-08-21</th>\n",
       "      <td>1.047504</td>\n",
       "      <td>-1.294779</td>\n",
       "    </tr>\n",
       "    <tr>\n",
       "      <th>2025-08-22</th>\n",
       "      <td>-1.172611</td>\n",
       "      <td>1.455082</td>\n",
       "    </tr>\n",
       "    <tr>\n",
       "      <th>2025-08-23</th>\n",
       "      <td>-1.182253</td>\n",
       "      <td>-0.973165</td>\n",
       "    </tr>\n",
       "    <tr>\n",
       "      <th>2025-08-24</th>\n",
       "      <td>-2.117772</td>\n",
       "      <td>-2.158338</td>\n",
       "    </tr>\n",
       "    <tr>\n",
       "      <th>2025-08-25</th>\n",
       "      <td>0.166884</td>\n",
       "      <td>0.361152</td>\n",
       "    </tr>\n",
       "  </tbody>\n",
       "</table>\n",
       "</div>"
      ],
      "text/plain": [
       "                   A         C\n",
       "2025-08-20 -1.238847  1.042154\n",
       "2025-08-21  1.047504 -1.294779\n",
       "2025-08-22 -1.172611  1.455082\n",
       "2025-08-23 -1.182253 -0.973165\n",
       "2025-08-24 -2.117772 -2.158338\n",
       "2025-08-25  0.166884  0.361152"
      ]
     },
     "execution_count": 24,
     "metadata": {},
     "output_type": "execute_result"
    }
   ],
   "source": [
    "# Selecting all rows (:) with a select column labels\n",
    "df.loc[:,[\"A\", \"C\"]]"
   ]
  },
  {
   "cell_type": "code",
   "execution_count": 25,
   "id": "7a0f3bfb-071c-494a-886e-20462347475b",
   "metadata": {},
   "outputs": [
    {
     "data": {
      "text/html": [
       "<div>\n",
       "<style scoped>\n",
       "    .dataframe tbody tr th:only-of-type {\n",
       "        vertical-align: middle;\n",
       "    }\n",
       "\n",
       "    .dataframe tbody tr th {\n",
       "        vertical-align: top;\n",
       "    }\n",
       "\n",
       "    .dataframe thead th {\n",
       "        text-align: right;\n",
       "    }\n",
       "</style>\n",
       "<table border=\"1\" class=\"dataframe\">\n",
       "  <thead>\n",
       "    <tr style=\"text-align: right;\">\n",
       "      <th></th>\n",
       "      <th>A</th>\n",
       "      <th>B</th>\n",
       "    </tr>\n",
       "  </thead>\n",
       "  <tbody>\n",
       "    <tr>\n",
       "      <th>2025-08-20</th>\n",
       "      <td>-1.238847</td>\n",
       "      <td>1.001248</td>\n",
       "    </tr>\n",
       "    <tr>\n",
       "      <th>2025-08-21</th>\n",
       "      <td>1.047504</td>\n",
       "      <td>-0.247127</td>\n",
       "    </tr>\n",
       "    <tr>\n",
       "      <th>2025-08-22</th>\n",
       "      <td>-1.172611</td>\n",
       "      <td>-0.171024</td>\n",
       "    </tr>\n",
       "  </tbody>\n",
       "</table>\n",
       "</div>"
      ],
      "text/plain": [
       "                   A         B\n",
       "2025-08-20 -1.238847  1.001248\n",
       "2025-08-21  1.047504 -0.247127\n",
       "2025-08-22 -1.172611 -0.171024"
      ]
     },
     "execution_count": 25,
     "metadata": {},
     "output_type": "execute_result"
    }
   ],
   "source": [
    "# selecting both labels\n",
    "df.loc[\"20250820\":\"20250822\", [\"A\", \"B\"]]"
   ]
  },
  {
   "cell_type": "code",
   "execution_count": 26,
   "id": "320a90cd-6ebc-4cb7-8e73-98d6e23846c3",
   "metadata": {},
   "outputs": [
    {
     "data": {
      "text/plain": [
       "np.float64(-1.2388472744080081)"
      ]
     },
     "execution_count": 26,
     "metadata": {},
     "output_type": "execute_result"
    }
   ],
   "source": [
    "# Selecting a single row and column returns a scalar\n",
    "df.loc[dates[0],\"A\"]"
   ]
  },
  {
   "cell_type": "code",
   "execution_count": 27,
   "id": "e0ec6b3e-0343-424d-bb02-de3f9329c44b",
   "metadata": {},
   "outputs": [
    {
     "data": {
      "text/plain": [
       "np.float64(-1.2388472744080081)"
      ]
     },
     "execution_count": 27,
     "metadata": {},
     "output_type": "execute_result"
    }
   ],
   "source": [
    "# for getting fast access to a scalar\n",
    "df.at[dates[0],\"A\"]"
   ]
  },
  {
   "cell_type": "code",
   "execution_count": 28,
   "id": "1ebc14d4-9958-47f5-a60f-29a8071c6f3e",
   "metadata": {},
   "outputs": [
    {
     "data": {
      "text/plain": [
       "A   -1.238847\n",
       "B    1.001248\n",
       "C    1.042154\n",
       "D    1.156370\n",
       "Name: 2025-08-20 00:00:00, dtype: float64"
      ]
     },
     "execution_count": 28,
     "metadata": {},
     "output_type": "execute_result"
    }
   ],
   "source": [
    "# Selection by position\n",
    "df.iloc[0]"
   ]
  },
  {
   "cell_type": "code",
   "execution_count": 29,
   "id": "9c79231c-7d9e-41e5-96fc-08f7aa682d5c",
   "metadata": {},
   "outputs": [
    {
     "data": {
      "text/html": [
       "<div>\n",
       "<style scoped>\n",
       "    .dataframe tbody tr th:only-of-type {\n",
       "        vertical-align: middle;\n",
       "    }\n",
       "\n",
       "    .dataframe tbody tr th {\n",
       "        vertical-align: top;\n",
       "    }\n",
       "\n",
       "    .dataframe thead th {\n",
       "        text-align: right;\n",
       "    }\n",
       "</style>\n",
       "<table border=\"1\" class=\"dataframe\">\n",
       "  <thead>\n",
       "    <tr style=\"text-align: right;\">\n",
       "      <th></th>\n",
       "      <th>A</th>\n",
       "    </tr>\n",
       "  </thead>\n",
       "  <tbody>\n",
       "    <tr>\n",
       "      <th>2025-08-23</th>\n",
       "      <td>-1.182253</td>\n",
       "    </tr>\n",
       "    <tr>\n",
       "      <th>2025-08-24</th>\n",
       "      <td>-2.117772</td>\n",
       "    </tr>\n",
       "  </tbody>\n",
       "</table>\n",
       "</div>"
      ],
      "text/plain": [
       "                   A\n",
       "2025-08-23 -1.182253\n",
       "2025-08-24 -2.117772"
      ]
     },
     "execution_count": 29,
     "metadata": {},
     "output_type": "execute_result"
    }
   ],
   "source": [
    "df.iloc[3:5,0:1]"
   ]
  },
  {
   "cell_type": "code",
   "execution_count": 30,
   "id": "8019cd15-9e87-47ab-9a19-4c3898b113a2",
   "metadata": {},
   "outputs": [
    {
     "data": {
      "text/html": [
       "<div>\n",
       "<style scoped>\n",
       "    .dataframe tbody tr th:only-of-type {\n",
       "        vertical-align: middle;\n",
       "    }\n",
       "\n",
       "    .dataframe tbody tr th {\n",
       "        vertical-align: top;\n",
       "    }\n",
       "\n",
       "    .dataframe thead th {\n",
       "        text-align: right;\n",
       "    }\n",
       "</style>\n",
       "<table border=\"1\" class=\"dataframe\">\n",
       "  <thead>\n",
       "    <tr style=\"text-align: right;\">\n",
       "      <th></th>\n",
       "      <th>C</th>\n",
       "      <th>D</th>\n",
       "    </tr>\n",
       "  </thead>\n",
       "  <tbody>\n",
       "    <tr>\n",
       "      <th>2025-08-21</th>\n",
       "      <td>-1.294779</td>\n",
       "      <td>-0.161616</td>\n",
       "    </tr>\n",
       "    <tr>\n",
       "      <th>2025-08-22</th>\n",
       "      <td>1.455082</td>\n",
       "      <td>1.254268</td>\n",
       "    </tr>\n",
       "    <tr>\n",
       "      <th>2025-08-24</th>\n",
       "      <td>-2.158338</td>\n",
       "      <td>0.892467</td>\n",
       "    </tr>\n",
       "  </tbody>\n",
       "</table>\n",
       "</div>"
      ],
      "text/plain": [
       "                   C         D\n",
       "2025-08-21 -1.294779 -0.161616\n",
       "2025-08-22  1.455082  1.254268\n",
       "2025-08-24 -2.158338  0.892467"
      ]
     },
     "execution_count": 30,
     "metadata": {},
     "output_type": "execute_result"
    }
   ],
   "source": [
    "df.iloc[[1,2,4],[2,3]]"
   ]
  },
  {
   "cell_type": "code",
   "execution_count": 31,
   "id": "0db7b3ab-f8aa-479e-ab54-8708690ce488",
   "metadata": {},
   "outputs": [
    {
     "data": {
      "text/html": [
       "<div>\n",
       "<style scoped>\n",
       "    .dataframe tbody tr th:only-of-type {\n",
       "        vertical-align: middle;\n",
       "    }\n",
       "\n",
       "    .dataframe tbody tr th {\n",
       "        vertical-align: top;\n",
       "    }\n",
       "\n",
       "    .dataframe thead th {\n",
       "        text-align: right;\n",
       "    }\n",
       "</style>\n",
       "<table border=\"1\" class=\"dataframe\">\n",
       "  <thead>\n",
       "    <tr style=\"text-align: right;\">\n",
       "      <th></th>\n",
       "      <th>A</th>\n",
       "      <th>B</th>\n",
       "      <th>C</th>\n",
       "      <th>D</th>\n",
       "    </tr>\n",
       "  </thead>\n",
       "  <tbody>\n",
       "    <tr>\n",
       "      <th>2025-08-21</th>\n",
       "      <td>1.047504</td>\n",
       "      <td>-0.247127</td>\n",
       "      <td>-1.294779</td>\n",
       "      <td>-0.161616</td>\n",
       "    </tr>\n",
       "    <tr>\n",
       "      <th>2025-08-22</th>\n",
       "      <td>-1.172611</td>\n",
       "      <td>-0.171024</td>\n",
       "      <td>1.455082</td>\n",
       "      <td>1.254268</td>\n",
       "    </tr>\n",
       "  </tbody>\n",
       "</table>\n",
       "</div>"
      ],
      "text/plain": [
       "                   A         B         C         D\n",
       "2025-08-21  1.047504 -0.247127 -1.294779 -0.161616\n",
       "2025-08-22 -1.172611 -0.171024  1.455082  1.254268"
      ]
     },
     "execution_count": 31,
     "metadata": {},
     "output_type": "execute_result"
    }
   ],
   "source": [
    "df.iloc[1:3, :]"
   ]
  },
  {
   "cell_type": "code",
   "execution_count": 32,
   "id": "f00ec260-0bf4-4a28-9fc6-b11aacbe362c",
   "metadata": {},
   "outputs": [
    {
     "data": {
      "text/html": [
       "<div>\n",
       "<style scoped>\n",
       "    .dataframe tbody tr th:only-of-type {\n",
       "        vertical-align: middle;\n",
       "    }\n",
       "\n",
       "    .dataframe tbody tr th {\n",
       "        vertical-align: top;\n",
       "    }\n",
       "\n",
       "    .dataframe thead th {\n",
       "        text-align: right;\n",
       "    }\n",
       "</style>\n",
       "<table border=\"1\" class=\"dataframe\">\n",
       "  <thead>\n",
       "    <tr style=\"text-align: right;\">\n",
       "      <th></th>\n",
       "      <th>A</th>\n",
       "      <th>B</th>\n",
       "      <th>C</th>\n",
       "      <th>D</th>\n",
       "    </tr>\n",
       "  </thead>\n",
       "  <tbody>\n",
       "    <tr>\n",
       "      <th>2025-08-21</th>\n",
       "      <td>1.047504</td>\n",
       "      <td>-0.247127</td>\n",
       "      <td>-1.294779</td>\n",
       "      <td>-0.161616</td>\n",
       "    </tr>\n",
       "    <tr>\n",
       "      <th>2025-08-25</th>\n",
       "      <td>0.166884</td>\n",
       "      <td>0.019090</td>\n",
       "      <td>0.361152</td>\n",
       "      <td>-1.884947</td>\n",
       "    </tr>\n",
       "  </tbody>\n",
       "</table>\n",
       "</div>"
      ],
      "text/plain": [
       "                   A         B         C         D\n",
       "2025-08-21  1.047504 -0.247127 -1.294779 -0.161616\n",
       "2025-08-25  0.166884  0.019090  0.361152 -1.884947"
      ]
     },
     "execution_count": 32,
     "metadata": {},
     "output_type": "execute_result"
    }
   ],
   "source": [
    "# Boolean indexing\n",
    "# Selecting rows where df.A is greater than 0\n",
    "df[df[\"A\"] > 0]"
   ]
  },
  {
   "cell_type": "code",
   "execution_count": 33,
   "id": "589a7dfb-e12c-440b-a2ec-a32c73691d04",
   "metadata": {},
   "outputs": [
    {
     "data": {
      "text/html": [
       "<div>\n",
       "<style scoped>\n",
       "    .dataframe tbody tr th:only-of-type {\n",
       "        vertical-align: middle;\n",
       "    }\n",
       "\n",
       "    .dataframe tbody tr th {\n",
       "        vertical-align: top;\n",
       "    }\n",
       "\n",
       "    .dataframe thead th {\n",
       "        text-align: right;\n",
       "    }\n",
       "</style>\n",
       "<table border=\"1\" class=\"dataframe\">\n",
       "  <thead>\n",
       "    <tr style=\"text-align: right;\">\n",
       "      <th></th>\n",
       "      <th>A</th>\n",
       "      <th>B</th>\n",
       "      <th>C</th>\n",
       "      <th>D</th>\n",
       "    </tr>\n",
       "  </thead>\n",
       "  <tbody>\n",
       "    <tr>\n",
       "      <th>2025-08-20</th>\n",
       "      <td>NaN</td>\n",
       "      <td>1.001248</td>\n",
       "      <td>1.042154</td>\n",
       "      <td>1.156370</td>\n",
       "    </tr>\n",
       "    <tr>\n",
       "      <th>2025-08-21</th>\n",
       "      <td>1.047504</td>\n",
       "      <td>NaN</td>\n",
       "      <td>NaN</td>\n",
       "      <td>NaN</td>\n",
       "    </tr>\n",
       "    <tr>\n",
       "      <th>2025-08-22</th>\n",
       "      <td>NaN</td>\n",
       "      <td>NaN</td>\n",
       "      <td>1.455082</td>\n",
       "      <td>1.254268</td>\n",
       "    </tr>\n",
       "    <tr>\n",
       "      <th>2025-08-23</th>\n",
       "      <td>NaN</td>\n",
       "      <td>NaN</td>\n",
       "      <td>NaN</td>\n",
       "      <td>1.484013</td>\n",
       "    </tr>\n",
       "    <tr>\n",
       "      <th>2025-08-24</th>\n",
       "      <td>NaN</td>\n",
       "      <td>NaN</td>\n",
       "      <td>NaN</td>\n",
       "      <td>0.892467</td>\n",
       "    </tr>\n",
       "    <tr>\n",
       "      <th>2025-08-25</th>\n",
       "      <td>0.166884</td>\n",
       "      <td>0.019090</td>\n",
       "      <td>0.361152</td>\n",
       "      <td>NaN</td>\n",
       "    </tr>\n",
       "  </tbody>\n",
       "</table>\n",
       "</div>"
      ],
      "text/plain": [
       "                   A         B         C         D\n",
       "2025-08-20       NaN  1.001248  1.042154  1.156370\n",
       "2025-08-21  1.047504       NaN       NaN       NaN\n",
       "2025-08-22       NaN       NaN  1.455082  1.254268\n",
       "2025-08-23       NaN       NaN       NaN  1.484013\n",
       "2025-08-24       NaN       NaN       NaN  0.892467\n",
       "2025-08-25  0.166884  0.019090  0.361152       NaN"
      ]
     },
     "execution_count": 33,
     "metadata": {},
     "output_type": "execute_result"
    }
   ],
   "source": [
    "# Selecting values from a DataFrame where a boolean condtion is met\n",
    "df[df > 0]"
   ]
  },
  {
   "cell_type": "code",
   "execution_count": 34,
   "id": "c07df522-7548-4949-b7d4-7e5e2f0e6117",
   "metadata": {},
   "outputs": [
    {
     "data": {
      "text/html": [
       "<div>\n",
       "<style scoped>\n",
       "    .dataframe tbody tr th:only-of-type {\n",
       "        vertical-align: middle;\n",
       "    }\n",
       "\n",
       "    .dataframe tbody tr th {\n",
       "        vertical-align: top;\n",
       "    }\n",
       "\n",
       "    .dataframe thead th {\n",
       "        text-align: right;\n",
       "    }\n",
       "</style>\n",
       "<table border=\"1\" class=\"dataframe\">\n",
       "  <thead>\n",
       "    <tr style=\"text-align: right;\">\n",
       "      <th></th>\n",
       "      <th>A</th>\n",
       "      <th>B</th>\n",
       "      <th>C</th>\n",
       "      <th>D</th>\n",
       "      <th>E</th>\n",
       "    </tr>\n",
       "  </thead>\n",
       "  <tbody>\n",
       "    <tr>\n",
       "      <th>2025-08-20</th>\n",
       "      <td>-1.238847</td>\n",
       "      <td>1.001248</td>\n",
       "      <td>1.042154</td>\n",
       "      <td>1.156370</td>\n",
       "      <td>one</td>\n",
       "    </tr>\n",
       "    <tr>\n",
       "      <th>2025-08-21</th>\n",
       "      <td>1.047504</td>\n",
       "      <td>-0.247127</td>\n",
       "      <td>-1.294779</td>\n",
       "      <td>-0.161616</td>\n",
       "      <td>one</td>\n",
       "    </tr>\n",
       "    <tr>\n",
       "      <th>2025-08-22</th>\n",
       "      <td>-1.172611</td>\n",
       "      <td>-0.171024</td>\n",
       "      <td>1.455082</td>\n",
       "      <td>1.254268</td>\n",
       "      <td>two</td>\n",
       "    </tr>\n",
       "    <tr>\n",
       "      <th>2025-08-23</th>\n",
       "      <td>-1.182253</td>\n",
       "      <td>-0.206135</td>\n",
       "      <td>-0.973165</td>\n",
       "      <td>1.484013</td>\n",
       "      <td>three</td>\n",
       "    </tr>\n",
       "    <tr>\n",
       "      <th>2025-08-24</th>\n",
       "      <td>-2.117772</td>\n",
       "      <td>-0.723084</td>\n",
       "      <td>-2.158338</td>\n",
       "      <td>0.892467</td>\n",
       "      <td>four</td>\n",
       "    </tr>\n",
       "    <tr>\n",
       "      <th>2025-08-25</th>\n",
       "      <td>0.166884</td>\n",
       "      <td>0.019090</td>\n",
       "      <td>0.361152</td>\n",
       "      <td>-1.884947</td>\n",
       "      <td>three</td>\n",
       "    </tr>\n",
       "  </tbody>\n",
       "</table>\n",
       "</div>"
      ],
      "text/plain": [
       "                   A         B         C         D      E\n",
       "2025-08-20 -1.238847  1.001248  1.042154  1.156370    one\n",
       "2025-08-21  1.047504 -0.247127 -1.294779 -0.161616    one\n",
       "2025-08-22 -1.172611 -0.171024  1.455082  1.254268    two\n",
       "2025-08-23 -1.182253 -0.206135 -0.973165  1.484013  three\n",
       "2025-08-24 -2.117772 -0.723084 -2.158338  0.892467   four\n",
       "2025-08-25  0.166884  0.019090  0.361152 -1.884947  three"
      ]
     },
     "execution_count": 34,
     "metadata": {},
     "output_type": "execute_result"
    }
   ],
   "source": [
    "# Using isin() method for filtering\n",
    "df2 = df.copy()\n",
    "df2[\"E\"] = [\"one\", \"one\", \"two\", \"three\", \"four\", \"three\"]\n",
    "df2"
   ]
  },
  {
   "cell_type": "code",
   "execution_count": 35,
   "id": "6056f5bc-3f24-4d92-8ab8-25a3a70462c9",
   "metadata": {},
   "outputs": [
    {
     "data": {
      "text/html": [
       "<div>\n",
       "<style scoped>\n",
       "    .dataframe tbody tr th:only-of-type {\n",
       "        vertical-align: middle;\n",
       "    }\n",
       "\n",
       "    .dataframe tbody tr th {\n",
       "        vertical-align: top;\n",
       "    }\n",
       "\n",
       "    .dataframe thead th {\n",
       "        text-align: right;\n",
       "    }\n",
       "</style>\n",
       "<table border=\"1\" class=\"dataframe\">\n",
       "  <thead>\n",
       "    <tr style=\"text-align: right;\">\n",
       "      <th></th>\n",
       "      <th>A</th>\n",
       "      <th>B</th>\n",
       "      <th>C</th>\n",
       "      <th>D</th>\n",
       "      <th>E</th>\n",
       "    </tr>\n",
       "  </thead>\n",
       "  <tbody>\n",
       "    <tr>\n",
       "      <th>2025-08-22</th>\n",
       "      <td>-1.172611</td>\n",
       "      <td>-0.171024</td>\n",
       "      <td>1.455082</td>\n",
       "      <td>1.254268</td>\n",
       "      <td>two</td>\n",
       "    </tr>\n",
       "    <tr>\n",
       "      <th>2025-08-23</th>\n",
       "      <td>-1.182253</td>\n",
       "      <td>-0.206135</td>\n",
       "      <td>-0.973165</td>\n",
       "      <td>1.484013</td>\n",
       "      <td>three</td>\n",
       "    </tr>\n",
       "    <tr>\n",
       "      <th>2025-08-25</th>\n",
       "      <td>0.166884</td>\n",
       "      <td>0.019090</td>\n",
       "      <td>0.361152</td>\n",
       "      <td>-1.884947</td>\n",
       "      <td>three</td>\n",
       "    </tr>\n",
       "  </tbody>\n",
       "</table>\n",
       "</div>"
      ],
      "text/plain": [
       "                   A         B         C         D      E\n",
       "2025-08-22 -1.172611 -0.171024  1.455082  1.254268    two\n",
       "2025-08-23 -1.182253 -0.206135 -0.973165  1.484013  three\n",
       "2025-08-25  0.166884  0.019090  0.361152 -1.884947  three"
      ]
     },
     "execution_count": 35,
     "metadata": {},
     "output_type": "execute_result"
    }
   ],
   "source": [
    "df2[df2[\"E\"].isin([\"two\",\"three\"])]"
   ]
  },
  {
   "cell_type": "code",
   "execution_count": 36,
   "id": "df743ca3-e0b9-43f5-b936-9550b426a020",
   "metadata": {},
   "outputs": [
    {
     "data": {
      "text/html": [
       "<div>\n",
       "<style scoped>\n",
       "    .dataframe tbody tr th:only-of-type {\n",
       "        vertical-align: middle;\n",
       "    }\n",
       "\n",
       "    .dataframe tbody tr th {\n",
       "        vertical-align: top;\n",
       "    }\n",
       "\n",
       "    .dataframe thead th {\n",
       "        text-align: right;\n",
       "    }\n",
       "</style>\n",
       "<table border=\"1\" class=\"dataframe\">\n",
       "  <thead>\n",
       "    <tr style=\"text-align: right;\">\n",
       "      <th></th>\n",
       "      <th>A</th>\n",
       "      <th>B</th>\n",
       "      <th>C</th>\n",
       "      <th>D</th>\n",
       "      <th>F</th>\n",
       "    </tr>\n",
       "  </thead>\n",
       "  <tbody>\n",
       "    <tr>\n",
       "      <th>2025-08-20</th>\n",
       "      <td>-1.238847</td>\n",
       "      <td>1.001248</td>\n",
       "      <td>1.042154</td>\n",
       "      <td>1.156370</td>\n",
       "      <td>1</td>\n",
       "    </tr>\n",
       "    <tr>\n",
       "      <th>2025-08-21</th>\n",
       "      <td>1.047504</td>\n",
       "      <td>-0.247127</td>\n",
       "      <td>-1.294779</td>\n",
       "      <td>-0.161616</td>\n",
       "      <td>2</td>\n",
       "    </tr>\n",
       "    <tr>\n",
       "      <th>2025-08-22</th>\n",
       "      <td>-1.172611</td>\n",
       "      <td>-0.171024</td>\n",
       "      <td>1.455082</td>\n",
       "      <td>1.254268</td>\n",
       "      <td>3</td>\n",
       "    </tr>\n",
       "    <tr>\n",
       "      <th>2025-08-23</th>\n",
       "      <td>-1.182253</td>\n",
       "      <td>-0.206135</td>\n",
       "      <td>-0.973165</td>\n",
       "      <td>1.484013</td>\n",
       "      <td>4</td>\n",
       "    </tr>\n",
       "    <tr>\n",
       "      <th>2025-08-24</th>\n",
       "      <td>-2.117772</td>\n",
       "      <td>-0.723084</td>\n",
       "      <td>-2.158338</td>\n",
       "      <td>0.892467</td>\n",
       "      <td>5</td>\n",
       "    </tr>\n",
       "    <tr>\n",
       "      <th>2025-08-25</th>\n",
       "      <td>0.166884</td>\n",
       "      <td>0.019090</td>\n",
       "      <td>0.361152</td>\n",
       "      <td>-1.884947</td>\n",
       "      <td>6</td>\n",
       "    </tr>\n",
       "  </tbody>\n",
       "</table>\n",
       "</div>"
      ],
      "text/plain": [
       "                   A         B         C         D  F\n",
       "2025-08-20 -1.238847  1.001248  1.042154  1.156370  1\n",
       "2025-08-21  1.047504 -0.247127 -1.294779 -0.161616  2\n",
       "2025-08-22 -1.172611 -0.171024  1.455082  1.254268  3\n",
       "2025-08-23 -1.182253 -0.206135 -0.973165  1.484013  4\n",
       "2025-08-24 -2.117772 -0.723084 -2.158338  0.892467  5\n",
       "2025-08-25  0.166884  0.019090  0.361152 -1.884947  6"
      ]
     },
     "execution_count": 36,
     "metadata": {},
     "output_type": "execute_result"
    }
   ],
   "source": [
    "# Setting\n",
    "# setting a new column automatically aligns the data by the indexes\n",
    "s1=pd.Series([1,2,3,4,5,6], index=pd.date_range(\"20250820\", periods=6))\n",
    "df[\"F\"]=s1\n",
    "df"
   ]
  },
  {
   "cell_type": "code",
   "execution_count": 37,
   "id": "feecc6ae-c62c-457e-9f10-6d241674b3ff",
   "metadata": {},
   "outputs": [],
   "source": [
    "# setting values by label\n",
    "df.at[dates[0], \"A\"] = 0\n"
   ]
  },
  {
   "cell_type": "code",
   "execution_count": 38,
   "id": "467e02a4-931f-4c01-84d8-16c83e044204",
   "metadata": {},
   "outputs": [],
   "source": [
    "# setting values by position\n",
    "df.iloc[0,1] = 2"
   ]
  },
  {
   "cell_type": "code",
   "execution_count": 50,
   "id": "b1e8832a-88e8-4185-b014-579ad63b7e0e",
   "metadata": {},
   "outputs": [],
   "source": [
    "# Setting by assigning with a NumPy arrya\n",
    "import numpy as np\n",
    "df[\"G\"] = np.array(np.random.randn(len(df)))"
   ]
  },
  {
   "cell_type": "code",
   "execution_count": 54,
   "id": "6205fff5-0748-4d89-8f9d-666f5beb2ff5",
   "metadata": {},
   "outputs": [
    {
     "data": {
      "text/html": [
       "<div>\n",
       "<style scoped>\n",
       "    .dataframe tbody tr th:only-of-type {\n",
       "        vertical-align: middle;\n",
       "    }\n",
       "\n",
       "    .dataframe tbody tr th {\n",
       "        vertical-align: top;\n",
       "    }\n",
       "\n",
       "    .dataframe thead th {\n",
       "        text-align: right;\n",
       "    }\n",
       "</style>\n",
       "<table border=\"1\" class=\"dataframe\">\n",
       "  <thead>\n",
       "    <tr style=\"text-align: right;\">\n",
       "      <th></th>\n",
       "      <th>A</th>\n",
       "      <th>B</th>\n",
       "      <th>C</th>\n",
       "      <th>D</th>\n",
       "      <th>F</th>\n",
       "      <th>G</th>\n",
       "      <th>H</th>\n",
       "    </tr>\n",
       "  </thead>\n",
       "  <tbody>\n",
       "    <tr>\n",
       "      <th>2025-08-20</th>\n",
       "      <td>0.000000</td>\n",
       "      <td>2.000000</td>\n",
       "      <td>1.042154</td>\n",
       "      <td>1.156370</td>\n",
       "      <td>1</td>\n",
       "      <td>-2.222669</td>\n",
       "      <td>NaN</td>\n",
       "    </tr>\n",
       "    <tr>\n",
       "      <th>2025-08-21</th>\n",
       "      <td>1.047504</td>\n",
       "      <td>-0.247127</td>\n",
       "      <td>-1.294779</td>\n",
       "      <td>-0.161616</td>\n",
       "      <td>2</td>\n",
       "      <td>0.053927</td>\n",
       "      <td>NaN</td>\n",
       "    </tr>\n",
       "    <tr>\n",
       "      <th>2025-08-22</th>\n",
       "      <td>-1.172611</td>\n",
       "      <td>-0.171024</td>\n",
       "      <td>1.455082</td>\n",
       "      <td>1.254268</td>\n",
       "      <td>3</td>\n",
       "      <td>1.116849</td>\n",
       "      <td>NaN</td>\n",
       "    </tr>\n",
       "    <tr>\n",
       "      <th>2025-08-23</th>\n",
       "      <td>-1.182253</td>\n",
       "      <td>-0.206135</td>\n",
       "      <td>-0.973165</td>\n",
       "      <td>1.484013</td>\n",
       "      <td>4</td>\n",
       "      <td>-1.524247</td>\n",
       "      <td>NaN</td>\n",
       "    </tr>\n",
       "    <tr>\n",
       "      <th>2025-08-24</th>\n",
       "      <td>-2.117772</td>\n",
       "      <td>-0.723084</td>\n",
       "      <td>-2.158338</td>\n",
       "      <td>0.892467</td>\n",
       "      <td>5</td>\n",
       "      <td>-1.030409</td>\n",
       "      <td>NaN</td>\n",
       "    </tr>\n",
       "    <tr>\n",
       "      <th>2025-08-25</th>\n",
       "      <td>0.166884</td>\n",
       "      <td>0.019090</td>\n",
       "      <td>0.361152</td>\n",
       "      <td>-1.884947</td>\n",
       "      <td>6</td>\n",
       "      <td>0.269081</td>\n",
       "      <td>NaN</td>\n",
       "    </tr>\n",
       "  </tbody>\n",
       "</table>\n",
       "</div>"
      ],
      "text/plain": [
       "                   A         B         C         D  F         G   H\n",
       "2025-08-20  0.000000  2.000000  1.042154  1.156370  1 -2.222669 NaN\n",
       "2025-08-21  1.047504 -0.247127 -1.294779 -0.161616  2  0.053927 NaN\n",
       "2025-08-22 -1.172611 -0.171024  1.455082  1.254268  3  1.116849 NaN\n",
       "2025-08-23 -1.182253 -0.206135 -0.973165  1.484013  4 -1.524247 NaN\n",
       "2025-08-24 -2.117772 -0.723084 -2.158338  0.892467  5 -1.030409 NaN\n",
       "2025-08-25  0.166884  0.019090  0.361152 -1.884947  6  0.269081 NaN"
      ]
     },
     "execution_count": 54,
     "metadata": {},
     "output_type": "execute_result"
    }
   ],
   "source": [
    "# Missing data\n",
    "# Reindex allows to change/add/delete on a specific axis\n",
    "df1 = df.reindex(index=dates[:],columns=list(df.columns)+[\"H\"])\n",
    "df1"
   ]
  },
  {
   "cell_type": "code",
   "execution_count": 65,
   "id": "36e87956-2bee-4fcf-a424-9afbb784445b",
   "metadata": {},
   "outputs": [
    {
     "data": {
      "text/plain": [
       "array([[nan],\n",
       "       [nan],\n",
       "       [nan],\n",
       "       [nan],\n",
       "       [nan],\n",
       "       [nan]])"
      ]
     },
     "execution_count": 65,
     "metadata": {},
     "output_type": "execute_result"
    }
   ],
   "source": [
    "# Adding a new column puts values to np.nan\n",
    "df1_np = df1.loc[:,[\"H\"]].to_numpy()\n",
    "df1_np"
   ]
  },
  {
   "cell_type": "code",
   "execution_count": 89,
   "id": "1dd86c04-36c4-4a20-b4f6-516f5757cc42",
   "metadata": {},
   "outputs": [
    {
     "ename": "SyntaxError",
     "evalue": "invalid syntax. Maybe you meant '==' or ':=' instead of '='? (67846798.py, line 1)",
     "output_type": "error",
     "traceback": [
      "  \u001b[36mCell\u001b[39m\u001b[36m \u001b[39m\u001b[32mIn[89]\u001b[39m\u001b[32m, line 1\u001b[39m\n\u001b[31m    \u001b[39m\u001b[31mdf.loc[columns=[\"A\"]]\u001b[39m\n           ^\n\u001b[31mSyntaxError\u001b[39m\u001b[31m:\u001b[39m invalid syntax. Maybe you meant '==' or ':=' instead of '='?\n"
     ]
    }
   ],
   "source": []
  },
  {
   "cell_type": "code",
   "execution_count": null,
   "id": "edf1ab43-7edf-4ac9-975e-035977af15ad",
   "metadata": {},
   "outputs": [],
   "source": []
  }
 ],
 "metadata": {
  "kernelspec": {
   "display_name": "Python 3 (ipykernel)",
   "language": "python",
   "name": "python3"
  },
  "language_info": {
   "codemirror_mode": {
    "name": "ipython",
    "version": 3
   },
   "file_extension": ".py",
   "mimetype": "text/x-python",
   "name": "python",
   "nbconvert_exporter": "python",
   "pygments_lexer": "ipython3",
   "version": "3.13.3"
  }
 },
 "nbformat": 4,
 "nbformat_minor": 5
}
