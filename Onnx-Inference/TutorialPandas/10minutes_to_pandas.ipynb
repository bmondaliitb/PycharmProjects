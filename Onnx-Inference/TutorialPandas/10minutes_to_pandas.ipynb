{
 "cells": [
  {
   "cell_type": "code",
   "execution_count": 2,
   "id": "5004e979-cae6-4b22-ac51-901675199424",
   "metadata": {},
   "outputs": [],
   "source": [
    "# tutorial link: https://pandas.pydata.org/docs/user_guide/10min.html\n",
    "import numpy as np\n",
    "import pandas as pd"
   ]
  },
  {
   "cell_type": "code",
   "execution_count": 5,
   "id": "e6af0866-665b-4e05-9e44-baef8223efb1",
   "metadata": {},
   "outputs": [
    {
     "name": "stdout",
     "output_type": "stream",
     "text": [
      "0    1.0\n",
      "1    3.0\n",
      "2    5.0\n",
      "3    NaN\n",
      "4    6.0\n",
      "5    8.0\n",
      "dtype: float64\n"
     ]
    }
   ],
   "source": [
    "# there are two types of data structures in pandas\n",
    "# two classes handle those\n",
    "# Series for 1D data\n",
    "# DataFrame for 2D data\n",
    "s = pd.Series([1,3,5,np.nan,6,8])\n",
    "print(s)"
   ]
  },
  {
   "cell_type": "code",
   "execution_count": 7,
   "id": "1110d10a-7135-49b3-9c8d-c7e3ffe8e076",
   "metadata": {},
   "outputs": [
    {
     "name": "stdout",
     "output_type": "stream",
     "text": [
      "DatetimeIndex(['2025-08-20', '2025-08-21', '2025-08-22', '2025-08-23',\n",
      "               '2025-08-24', '2025-08-25'],\n",
      "              dtype='datetime64[ns]', freq='D')\n"
     ]
    }
   ],
   "source": [
    "# creating dataframe by passing a NumPy array with datetime index using date_range() and labeled colums\n",
    "dates = pd.date_range(\"20250820\", periods=6)\n",
    "print(dates)"
   ]
  },
  {
   "cell_type": "code",
   "execution_count": 10,
   "id": "0c6190ea-1322-40b7-b3ac-9d6e39431b04",
   "metadata": {},
   "outputs": [
    {
     "name": "stdout",
     "output_type": "stream",
     "text": [
      "                   A         B         C         D\n",
      "2025-08-20 -1.205903 -0.511511  0.651474 -2.123320\n",
      "2025-08-21  0.280346 -0.972048  0.208373 -0.448050\n",
      "2025-08-22  0.638818 -0.222277 -1.308022  0.708640\n",
      "2025-08-23  0.242789  0.758159  0.769651  0.492938\n",
      "2025-08-24  0.053046 -1.541530 -0.959791 -1.181696\n",
      "2025-08-25  2.399643  0.332095 -0.217245  0.863972\n"
     ]
    }
   ],
   "source": [
    "# makeing this a dataframe\n",
    "df = pd.DataFrame(np.random.randn(6,4), index=dates, columns=list(\"ABCD\"))\n",
    "print(df)"
   ]
  },
  {
   "cell_type": "code",
   "execution_count": 17,
   "id": "71ae7878-8ead-4482-915d-54152fe4e61f",
   "metadata": {},
   "outputs": [
    {
     "name": "stdout",
     "output_type": "stream",
     "text": [
      "     A          B    C  D Copy      E    F  G\n",
      "0  1.0 2025-08-20  1.0  3  bla   test  foo  3\n",
      "1  1.0 2025-08-20  1.0  3  bla  train  foo  3\n",
      "2  1.0 2025-08-20  1.0  3  bla   test  foo  3\n",
      "3  1.0 2025-08-20  1.0  3  bla  train  foo  3\n"
     ]
    }
   ],
   "source": [
    "# creating a DataFrame by passing a dictionary of objects where the keys are colum lebels and the values are the column values\n",
    "df2 = pd.DataFrame(\n",
    "    {\n",
    "        \"A\": 1.0,\n",
    "        \"B\": pd.Timestamp(\"20250820\"),\n",
    "        \"C\": pd.Series(1, index=list(range(4)), dtype=\"float32\"),\n",
    "        \"D\": np.array([3]*4, dtype=\"int32\"),\n",
    "        \"Copy\": np.array([\"bla\"]*4, dtype=\"str\"),\n",
    "        \"E\": pd.Categorical([\"test\", \"train\", \"test\", \"train\"]),\n",
    "        \"F\": \"foo\",\n",
    "        \"G\": 3\n",
    "    }\n",
    ")\n",
    "print(df2)"
   ]
  },
  {
   "cell_type": "code",
   "execution_count": 18,
   "id": "753635dc-dbdd-47d2-858f-f632b281005a",
   "metadata": {},
   "outputs": [
    {
     "name": "stdout",
     "output_type": "stream",
     "text": [
      "A             float64\n",
      "B       datetime64[s]\n",
      "C             float32\n",
      "D               int32\n",
      "Copy           object\n",
      "E            category\n",
      "F              object\n",
      "G               int64\n",
      "dtype: object\n"
     ]
    }
   ],
   "source": [
    "# column of the DataFrame has different datatypes\n",
    "print(df2.dtypes)"
   ]
  },
  {
   "cell_type": "code",
   "execution_count": 20,
   "id": "61c3e6e5-e872-4dee-8198-b2b7eddfa292",
   "metadata": {},
   "outputs": [
    {
     "name": "stdout",
     "output_type": "stream",
     "text": [
      "                   A         B         C         D\n",
      "2025-08-20 -1.205903 -0.511511  0.651474 -2.123320\n",
      "2025-08-21  0.280346 -0.972048  0.208373 -0.448050\n",
      "2025-08-22  0.638818 -0.222277 -1.308022  0.708640\n",
      "2025-08-23  0.242789  0.758159  0.769651  0.492938\n",
      "2025-08-24  0.053046 -1.541530 -0.959791 -1.181696\n",
      "                   A         B         C         D\n",
      "2025-08-23  0.242789  0.758159  0.769651  0.492938\n",
      "2025-08-24  0.053046 -1.541530 -0.959791 -1.181696\n",
      "2025-08-25  2.399643  0.332095 -0.217245  0.863972\n"
     ]
    }
   ],
   "source": [
    "# Viewing data\n",
    "# Use DataFrame.head() and DataFrame.tail() to view the top and bottom rows of the frame\n",
    "print(df.head())\n",
    "print(df.tail(3))"
   ]
  },
  {
   "cell_type": "code",
   "execution_count": 23,
   "id": "09b38cc8-68d9-49e2-8b3f-c6cddbb50068",
   "metadata": {},
   "outputs": [
    {
     "name": "stdout",
     "output_type": "stream",
     "text": [
      "DatetimeIndex(['2025-08-20', '2025-08-21', '2025-08-22', '2025-08-23',\n",
      "               '2025-08-24', '2025-08-25'],\n",
      "              dtype='datetime64[ns]', freq='D')\n",
      "Index(['A', 'B', 'C', 'D'], dtype='object')\n"
     ]
    }
   ],
   "source": [
    "# Display DataFrame.index or DataFrame.columns\n",
    "print(df.index)\n",
    "print(df.columns)"
   ]
  },
  {
   "cell_type": "code",
   "execution_count": 24,
   "id": "1138e96e-f049-484f-a2aa-dfd0c9a951eb",
   "metadata": {},
   "outputs": [
    {
     "name": "stdout",
     "output_type": "stream",
     "text": [
      "[[-1.20590322 -0.51151133  0.65147378 -2.1233197 ]\n",
      " [ 0.28034642 -0.97204846  0.20837329 -0.44805023]\n",
      " [ 0.63881809 -0.22227715 -1.30802215  0.70863977]\n",
      " [ 0.2427893   0.75815939  0.7696507   0.49293783]\n",
      " [ 0.05304599 -1.54153018 -0.95979128 -1.18169561]\n",
      " [ 2.39964288  0.33209536 -0.21724545  0.86397197]]\n"
     ]
    }
   ],
   "source": [
    "# return to numpy representation of the underlying data with DataFrame.to_numpy() without the index or column labels\n",
    "numpy_arr = df.to_numpy()\n",
    "print(numpy_arr)"
   ]
  },
  {
   "cell_type": "code",
   "execution_count": 28,
   "id": "846d81ce-c766-4441-abe3-d43824db3f2e",
   "metadata": {},
   "outputs": [
    {
     "name": "stdout",
     "output_type": "stream",
     "text": [
      "[[1.0 Timestamp('2025-08-20 00:00:00') 1.0 3 'bla' 'test' 'foo' 3]\n",
      " [1.0 Timestamp('2025-08-20 00:00:00') 1.0 3 'bla' 'train' 'foo' 3]\n",
      " [1.0 Timestamp('2025-08-20 00:00:00') 1.0 3 'bla' 'test' 'foo' 3]\n",
      " [1.0 Timestamp('2025-08-20 00:00:00') 1.0 3 'bla' 'train' 'foo' 3]]\n"
     ]
    },
    {
     "data": {
      "text/plain": [
       "array([[1.0, Timestamp('2025-08-20 00:00:00'), 1.0, 3, 'bla', 'test',\n",
       "        'foo', 3],\n",
       "       [1.0, Timestamp('2025-08-20 00:00:00'), 1.0, 3, 'bla', 'train',\n",
       "        'foo', 3],\n",
       "       [1.0, Timestamp('2025-08-20 00:00:00'), 1.0, 3, 'bla', 'test',\n",
       "        'foo', 3],\n",
       "       [1.0, Timestamp('2025-08-20 00:00:00'), 1.0, 3, 'bla', 'train',\n",
       "        'foo', 3]], dtype=object)"
      ]
     },
     "execution_count": 28,
     "metadata": {},
     "output_type": "execute_result"
    }
   ],
   "source": [
    "# NumPy arrays have one dtype for the entire array while pandas DataFrames have one dtype per column.\n",
    "# When you call DataFrame.to_numpy(), pandas will find the NumPy dtype that can hold all of the dtypes in the DataFrame. \n",
    "# If the common data type is object, DataFrame.to_numpy() will require copying data.\n",
    "\n",
    "# for example df2 holds different data types\n",
    "numpy_arr_from_df2 = df2.to_numpy()\n",
    "print(numpy_arr_from_df2)\n",
    "df2.to_numpy() # notice data type is object"
   ]
  },
  {
   "cell_type": "code",
   "execution_count": 30,
   "id": "6d9bb5b6-b3ff-44d7-914f-af7e1f1e1c8a",
   "metadata": {},
   "outputs": [
    {
     "name": "stdout",
     "output_type": "stream",
     "text": [
      "              A         B         C         D\n",
      "count  6.000000  6.000000  6.000000  6.000000\n",
      "mean   0.401457 -0.359519 -0.142594 -0.281253\n",
      "std    1.165670  0.841643  0.850590  1.193535\n",
      "min   -1.205903 -1.541530 -1.308022 -2.123320\n",
      "25%    0.100482 -0.856914 -0.774155 -0.998284\n",
      "50%    0.261568 -0.366894 -0.004436  0.022444\n",
      "75%    0.549200  0.193502  0.540699  0.654714\n",
      "max    2.399643  0.758159  0.769651  0.863972\n"
     ]
    }
   ],
   "source": [
    "# DataFrame.describe() shows quick statistic summary of data\n",
    "print(df.describe())"
   ]
  },
  {
   "cell_type": "code",
   "execution_count": 39,
   "id": "9935417d-8d87-4751-97b3-9878b900902d",
   "metadata": {},
   "outputs": [
    {
     "data": {
      "text/html": [
       "<div>\n",
       "<style scoped>\n",
       "    .dataframe tbody tr th:only-of-type {\n",
       "        vertical-align: middle;\n",
       "    }\n",
       "\n",
       "    .dataframe tbody tr th {\n",
       "        vertical-align: top;\n",
       "    }\n",
       "\n",
       "    .dataframe thead th {\n",
       "        text-align: right;\n",
       "    }\n",
       "</style>\n",
       "<table border=\"1\" class=\"dataframe\">\n",
       "  <thead>\n",
       "    <tr style=\"text-align: right;\">\n",
       "      <th></th>\n",
       "      <th>2025-08-20</th>\n",
       "      <th>2025-08-21</th>\n",
       "      <th>2025-08-22</th>\n",
       "      <th>2025-08-23</th>\n",
       "      <th>2025-08-24</th>\n",
       "      <th>2025-08-25</th>\n",
       "    </tr>\n",
       "  </thead>\n",
       "  <tbody>\n",
       "    <tr>\n",
       "      <th>A</th>\n",
       "      <td>-1.205903</td>\n",
       "      <td>0.280346</td>\n",
       "      <td>0.638818</td>\n",
       "      <td>0.242789</td>\n",
       "      <td>0.053046</td>\n",
       "      <td>2.399643</td>\n",
       "    </tr>\n",
       "    <tr>\n",
       "      <th>B</th>\n",
       "      <td>-0.511511</td>\n",
       "      <td>-0.972048</td>\n",
       "      <td>-0.222277</td>\n",
       "      <td>0.758159</td>\n",
       "      <td>-1.541530</td>\n",
       "      <td>0.332095</td>\n",
       "    </tr>\n",
       "    <tr>\n",
       "      <th>C</th>\n",
       "      <td>0.651474</td>\n",
       "      <td>0.208373</td>\n",
       "      <td>-1.308022</td>\n",
       "      <td>0.769651</td>\n",
       "      <td>-0.959791</td>\n",
       "      <td>-0.217245</td>\n",
       "    </tr>\n",
       "    <tr>\n",
       "      <th>D</th>\n",
       "      <td>-2.123320</td>\n",
       "      <td>-0.448050</td>\n",
       "      <td>0.708640</td>\n",
       "      <td>0.492938</td>\n",
       "      <td>-1.181696</td>\n",
       "      <td>0.863972</td>\n",
       "    </tr>\n",
       "  </tbody>\n",
       "</table>\n",
       "</div>"
      ],
      "text/plain": [
       "   2025-08-20  2025-08-21  2025-08-22  2025-08-23  2025-08-24  2025-08-25\n",
       "A   -1.205903    0.280346    0.638818    0.242789    0.053046    2.399643\n",
       "B   -0.511511   -0.972048   -0.222277    0.758159   -1.541530    0.332095\n",
       "C    0.651474    0.208373   -1.308022    0.769651   -0.959791   -0.217245\n",
       "D   -2.123320   -0.448050    0.708640    0.492938   -1.181696    0.863972"
      ]
     },
     "execution_count": 39,
     "metadata": {},
     "output_type": "execute_result"
    }
   ],
   "source": [
    "# Transposing data\n",
    "df.T"
   ]
  },
  {
   "cell_type": "code",
   "execution_count": 48,
   "id": "278061de-f44d-47fb-b395-84e7093eae47",
   "metadata": {},
   "outputs": [
    {
     "data": {
      "text/html": [
       "<div>\n",
       "<style scoped>\n",
       "    .dataframe tbody tr th:only-of-type {\n",
       "        vertical-align: middle;\n",
       "    }\n",
       "\n",
       "    .dataframe tbody tr th {\n",
       "        vertical-align: top;\n",
       "    }\n",
       "\n",
       "    .dataframe thead th {\n",
       "        text-align: right;\n",
       "    }\n",
       "</style>\n",
       "<table border=\"1\" class=\"dataframe\">\n",
       "  <thead>\n",
       "    <tr style=\"text-align: right;\">\n",
       "      <th></th>\n",
       "      <th>A</th>\n",
       "      <th>B</th>\n",
       "      <th>C</th>\n",
       "      <th>D</th>\n",
       "    </tr>\n",
       "  </thead>\n",
       "  <tbody>\n",
       "    <tr>\n",
       "      <th>2025-08-20</th>\n",
       "      <td>-1.205903</td>\n",
       "      <td>-0.511511</td>\n",
       "      <td>0.651474</td>\n",
       "      <td>-2.123320</td>\n",
       "    </tr>\n",
       "    <tr>\n",
       "      <th>2025-08-21</th>\n",
       "      <td>0.280346</td>\n",
       "      <td>-0.972048</td>\n",
       "      <td>0.208373</td>\n",
       "      <td>-0.448050</td>\n",
       "    </tr>\n",
       "    <tr>\n",
       "      <th>2025-08-22</th>\n",
       "      <td>0.638818</td>\n",
       "      <td>-0.222277</td>\n",
       "      <td>-1.308022</td>\n",
       "      <td>0.708640</td>\n",
       "    </tr>\n",
       "    <tr>\n",
       "      <th>2025-08-23</th>\n",
       "      <td>0.242789</td>\n",
       "      <td>0.758159</td>\n",
       "      <td>0.769651</td>\n",
       "      <td>0.492938</td>\n",
       "    </tr>\n",
       "    <tr>\n",
       "      <th>2025-08-24</th>\n",
       "      <td>0.053046</td>\n",
       "      <td>-1.541530</td>\n",
       "      <td>-0.959791</td>\n",
       "      <td>-1.181696</td>\n",
       "    </tr>\n",
       "    <tr>\n",
       "      <th>2025-08-25</th>\n",
       "      <td>2.399643</td>\n",
       "      <td>0.332095</td>\n",
       "      <td>-0.217245</td>\n",
       "      <td>0.863972</td>\n",
       "    </tr>\n",
       "  </tbody>\n",
       "</table>\n",
       "</div>"
      ],
      "text/plain": [
       "                   A         B         C         D\n",
       "2025-08-20 -1.205903 -0.511511  0.651474 -2.123320\n",
       "2025-08-21  0.280346 -0.972048  0.208373 -0.448050\n",
       "2025-08-22  0.638818 -0.222277 -1.308022  0.708640\n",
       "2025-08-23  0.242789  0.758159  0.769651  0.492938\n",
       "2025-08-24  0.053046 -1.541530 -0.959791 -1.181696\n",
       "2025-08-25  2.399643  0.332095 -0.217245  0.863972"
      ]
     },
     "execution_count": 48,
     "metadata": {},
     "output_type": "execute_result"
    }
   ],
   "source": [
    "# DataFrame.sort_index() shorts by an axis\n",
    "df.sort_index(axis=0, ascending=True) # axis = 0 represents row and 1 represent column"
   ]
  },
  {
   "cell_type": "code",
   "execution_count": 49,
   "id": "4d172c89-3b59-433f-a156-dae5b3e547f3",
   "metadata": {},
   "outputs": [
    {
     "data": {
      "text/html": [
       "<div>\n",
       "<style scoped>\n",
       "    .dataframe tbody tr th:only-of-type {\n",
       "        vertical-align: middle;\n",
       "    }\n",
       "\n",
       "    .dataframe tbody tr th {\n",
       "        vertical-align: top;\n",
       "    }\n",
       "\n",
       "    .dataframe thead th {\n",
       "        text-align: right;\n",
       "    }\n",
       "</style>\n",
       "<table border=\"1\" class=\"dataframe\">\n",
       "  <thead>\n",
       "    <tr style=\"text-align: right;\">\n",
       "      <th></th>\n",
       "      <th>A</th>\n",
       "      <th>B</th>\n",
       "      <th>C</th>\n",
       "      <th>D</th>\n",
       "    </tr>\n",
       "  </thead>\n",
       "  <tbody>\n",
       "    <tr>\n",
       "      <th>2025-08-23</th>\n",
       "      <td>0.242789</td>\n",
       "      <td>0.758159</td>\n",
       "      <td>0.769651</td>\n",
       "      <td>0.492938</td>\n",
       "    </tr>\n",
       "    <tr>\n",
       "      <th>2025-08-25</th>\n",
       "      <td>2.399643</td>\n",
       "      <td>0.332095</td>\n",
       "      <td>-0.217245</td>\n",
       "      <td>0.863972</td>\n",
       "    </tr>\n",
       "    <tr>\n",
       "      <th>2025-08-22</th>\n",
       "      <td>0.638818</td>\n",
       "      <td>-0.222277</td>\n",
       "      <td>-1.308022</td>\n",
       "      <td>0.708640</td>\n",
       "    </tr>\n",
       "    <tr>\n",
       "      <th>2025-08-20</th>\n",
       "      <td>-1.205903</td>\n",
       "      <td>-0.511511</td>\n",
       "      <td>0.651474</td>\n",
       "      <td>-2.123320</td>\n",
       "    </tr>\n",
       "    <tr>\n",
       "      <th>2025-08-21</th>\n",
       "      <td>0.280346</td>\n",
       "      <td>-0.972048</td>\n",
       "      <td>0.208373</td>\n",
       "      <td>-0.448050</td>\n",
       "    </tr>\n",
       "    <tr>\n",
       "      <th>2025-08-24</th>\n",
       "      <td>0.053046</td>\n",
       "      <td>-1.541530</td>\n",
       "      <td>-0.959791</td>\n",
       "      <td>-1.181696</td>\n",
       "    </tr>\n",
       "  </tbody>\n",
       "</table>\n",
       "</div>"
      ],
      "text/plain": [
       "                   A         B         C         D\n",
       "2025-08-23  0.242789  0.758159  0.769651  0.492938\n",
       "2025-08-25  2.399643  0.332095 -0.217245  0.863972\n",
       "2025-08-22  0.638818 -0.222277 -1.308022  0.708640\n",
       "2025-08-20 -1.205903 -0.511511  0.651474 -2.123320\n",
       "2025-08-21  0.280346 -0.972048  0.208373 -0.448050\n",
       "2025-08-24  0.053046 -1.541530 -0.959791 -1.181696"
      ]
     },
     "execution_count": 49,
     "metadata": {},
     "output_type": "execute_result"
    }
   ],
   "source": [
    "# DataFrame.sort_values() sorts by values:\n",
    "df.sort_values(by=\"B\", ascending=False)"
   ]
  },
  {
   "cell_type": "code",
   "execution_count": 51,
   "id": "ff07a6cf-f2d1-44d0-ba7b-84676374be46",
   "metadata": {},
   "outputs": [
    {
     "data": {
      "text/plain": [
       "2025-08-20   -1.205903\n",
       "2025-08-21    0.280346\n",
       "2025-08-22    0.638818\n",
       "2025-08-23    0.242789\n",
       "2025-08-24    0.053046\n",
       "2025-08-25    2.399643\n",
       "Freq: D, Name: A, dtype: float64"
      ]
     },
     "execution_count": 51,
     "metadata": {},
     "output_type": "execute_result"
    }
   ],
   "source": [
    "# Getitem ([])\n",
    "# For a DataFrame, passing a single lebel selects a coluns and yields a Series equivalent to df.A\n",
    "df[\"A\"]"
   ]
  },
  {
   "cell_type": "code",
   "execution_count": 56,
   "id": "24dbd746-6b48-49aa-9de3-b7fd01f8e3fb",
   "metadata": {},
   "outputs": [
    {
     "data": {
      "text/html": [
       "<div>\n",
       "<style scoped>\n",
       "    .dataframe tbody tr th:only-of-type {\n",
       "        vertical-align: middle;\n",
       "    }\n",
       "\n",
       "    .dataframe tbody tr th {\n",
       "        vertical-align: top;\n",
       "    }\n",
       "\n",
       "    .dataframe thead th {\n",
       "        text-align: right;\n",
       "    }\n",
       "</style>\n",
       "<table border=\"1\" class=\"dataframe\">\n",
       "  <thead>\n",
       "    <tr style=\"text-align: right;\">\n",
       "      <th></th>\n",
       "      <th>A</th>\n",
       "      <th>B</th>\n",
       "      <th>C</th>\n",
       "      <th>D</th>\n",
       "    </tr>\n",
       "  </thead>\n",
       "  <tbody>\n",
       "    <tr>\n",
       "      <th>2025-08-21</th>\n",
       "      <td>0.280346</td>\n",
       "      <td>-0.972048</td>\n",
       "      <td>0.208373</td>\n",
       "      <td>-0.44805</td>\n",
       "    </tr>\n",
       "    <tr>\n",
       "      <th>2025-08-22</th>\n",
       "      <td>0.638818</td>\n",
       "      <td>-0.222277</td>\n",
       "      <td>-1.308022</td>\n",
       "      <td>0.70864</td>\n",
       "    </tr>\n",
       "  </tbody>\n",
       "</table>\n",
       "</div>"
      ],
      "text/plain": [
       "                   A         B         C        D\n",
       "2025-08-21  0.280346 -0.972048  0.208373 -0.44805\n",
       "2025-08-22  0.638818 -0.222277 -1.308022  0.70864"
      ]
     },
     "execution_count": 56,
     "metadata": {},
     "output_type": "execute_result"
    }
   ],
   "source": [
    "# For a DataFrame, passing a slice : selects matching rows\n",
    "df[1:3]"
   ]
  },
  {
   "cell_type": "code",
   "execution_count": 57,
   "id": "a2617152-aadb-497a-bd56-3767a511ce2b",
   "metadata": {},
   "outputs": [
    {
     "data": {
      "text/html": [
       "<div>\n",
       "<style scoped>\n",
       "    .dataframe tbody tr th:only-of-type {\n",
       "        vertical-align: middle;\n",
       "    }\n",
       "\n",
       "    .dataframe tbody tr th {\n",
       "        vertical-align: top;\n",
       "    }\n",
       "\n",
       "    .dataframe thead th {\n",
       "        text-align: right;\n",
       "    }\n",
       "</style>\n",
       "<table border=\"1\" class=\"dataframe\">\n",
       "  <thead>\n",
       "    <tr style=\"text-align: right;\">\n",
       "      <th></th>\n",
       "      <th>A</th>\n",
       "      <th>B</th>\n",
       "      <th>C</th>\n",
       "      <th>D</th>\n",
       "    </tr>\n",
       "  </thead>\n",
       "  <tbody>\n",
       "    <tr>\n",
       "      <th>2025-08-20</th>\n",
       "      <td>-1.205903</td>\n",
       "      <td>-0.511511</td>\n",
       "      <td>0.651474</td>\n",
       "      <td>-2.12332</td>\n",
       "    </tr>\n",
       "    <tr>\n",
       "      <th>2025-08-21</th>\n",
       "      <td>0.280346</td>\n",
       "      <td>-0.972048</td>\n",
       "      <td>0.208373</td>\n",
       "      <td>-0.44805</td>\n",
       "    </tr>\n",
       "    <tr>\n",
       "      <th>2025-08-22</th>\n",
       "      <td>0.638818</td>\n",
       "      <td>-0.222277</td>\n",
       "      <td>-1.308022</td>\n",
       "      <td>0.70864</td>\n",
       "    </tr>\n",
       "  </tbody>\n",
       "</table>\n",
       "</div>"
      ],
      "text/plain": [
       "                   A         B         C        D\n",
       "2025-08-20 -1.205903 -0.511511  0.651474 -2.12332\n",
       "2025-08-21  0.280346 -0.972048  0.208373 -0.44805\n",
       "2025-08-22  0.638818 -0.222277 -1.308022  0.70864"
      ]
     },
     "execution_count": 57,
     "metadata": {},
     "output_type": "execute_result"
    }
   ],
   "source": [
    "df[\"20250820\":\"20250822\"]"
   ]
  },
  {
   "cell_type": "code",
   "execution_count": 58,
   "id": "a7987f02-5fec-4b7a-ae21-8b1c31e05e9b",
   "metadata": {},
   "outputs": [
    {
     "data": {
      "text/plain": [
       "A   -1.205903\n",
       "B   -0.511511\n",
       "C    0.651474\n",
       "D   -2.123320\n",
       "Name: 2025-08-20 00:00:00, dtype: float64"
      ]
     },
     "execution_count": 58,
     "metadata": {},
     "output_type": "execute_result"
    }
   ],
   "source": [
    "# Selection by label\n",
    "# Selecting a row matching a label\n",
    "df.loc[dates[0]]"
   ]
  },
  {
   "cell_type": "code",
   "execution_count": 59,
   "id": "b4d48021-f2f2-4646-a6fe-f704ff4bb802",
   "metadata": {},
   "outputs": [
    {
     "data": {
      "text/html": [
       "<div>\n",
       "<style scoped>\n",
       "    .dataframe tbody tr th:only-of-type {\n",
       "        vertical-align: middle;\n",
       "    }\n",
       "\n",
       "    .dataframe tbody tr th {\n",
       "        vertical-align: top;\n",
       "    }\n",
       "\n",
       "    .dataframe thead th {\n",
       "        text-align: right;\n",
       "    }\n",
       "</style>\n",
       "<table border=\"1\" class=\"dataframe\">\n",
       "  <thead>\n",
       "    <tr style=\"text-align: right;\">\n",
       "      <th></th>\n",
       "      <th>A</th>\n",
       "      <th>C</th>\n",
       "    </tr>\n",
       "  </thead>\n",
       "  <tbody>\n",
       "    <tr>\n",
       "      <th>2025-08-20</th>\n",
       "      <td>-1.205903</td>\n",
       "      <td>0.651474</td>\n",
       "    </tr>\n",
       "    <tr>\n",
       "      <th>2025-08-21</th>\n",
       "      <td>0.280346</td>\n",
       "      <td>0.208373</td>\n",
       "    </tr>\n",
       "    <tr>\n",
       "      <th>2025-08-22</th>\n",
       "      <td>0.638818</td>\n",
       "      <td>-1.308022</td>\n",
       "    </tr>\n",
       "    <tr>\n",
       "      <th>2025-08-23</th>\n",
       "      <td>0.242789</td>\n",
       "      <td>0.769651</td>\n",
       "    </tr>\n",
       "    <tr>\n",
       "      <th>2025-08-24</th>\n",
       "      <td>0.053046</td>\n",
       "      <td>-0.959791</td>\n",
       "    </tr>\n",
       "    <tr>\n",
       "      <th>2025-08-25</th>\n",
       "      <td>2.399643</td>\n",
       "      <td>-0.217245</td>\n",
       "    </tr>\n",
       "  </tbody>\n",
       "</table>\n",
       "</div>"
      ],
      "text/plain": [
       "                   A         C\n",
       "2025-08-20 -1.205903  0.651474\n",
       "2025-08-21  0.280346  0.208373\n",
       "2025-08-22  0.638818 -1.308022\n",
       "2025-08-23  0.242789  0.769651\n",
       "2025-08-24  0.053046 -0.959791\n",
       "2025-08-25  2.399643 -0.217245"
      ]
     },
     "execution_count": 59,
     "metadata": {},
     "output_type": "execute_result"
    }
   ],
   "source": [
    "# Selecting all rows (:) with a select column labels\n",
    "df.loc[:,[\"A\", \"C\"]]"
   ]
  },
  {
   "cell_type": "code",
   "execution_count": 60,
   "id": "7a0f3bfb-071c-494a-886e-20462347475b",
   "metadata": {},
   "outputs": [
    {
     "data": {
      "text/html": [
       "<div>\n",
       "<style scoped>\n",
       "    .dataframe tbody tr th:only-of-type {\n",
       "        vertical-align: middle;\n",
       "    }\n",
       "\n",
       "    .dataframe tbody tr th {\n",
       "        vertical-align: top;\n",
       "    }\n",
       "\n",
       "    .dataframe thead th {\n",
       "        text-align: right;\n",
       "    }\n",
       "</style>\n",
       "<table border=\"1\" class=\"dataframe\">\n",
       "  <thead>\n",
       "    <tr style=\"text-align: right;\">\n",
       "      <th></th>\n",
       "      <th>A</th>\n",
       "      <th>B</th>\n",
       "    </tr>\n",
       "  </thead>\n",
       "  <tbody>\n",
       "    <tr>\n",
       "      <th>2025-08-20</th>\n",
       "      <td>-1.205903</td>\n",
       "      <td>-0.511511</td>\n",
       "    </tr>\n",
       "    <tr>\n",
       "      <th>2025-08-21</th>\n",
       "      <td>0.280346</td>\n",
       "      <td>-0.972048</td>\n",
       "    </tr>\n",
       "    <tr>\n",
       "      <th>2025-08-22</th>\n",
       "      <td>0.638818</td>\n",
       "      <td>-0.222277</td>\n",
       "    </tr>\n",
       "  </tbody>\n",
       "</table>\n",
       "</div>"
      ],
      "text/plain": [
       "                   A         B\n",
       "2025-08-20 -1.205903 -0.511511\n",
       "2025-08-21  0.280346 -0.972048\n",
       "2025-08-22  0.638818 -0.222277"
      ]
     },
     "execution_count": 60,
     "metadata": {},
     "output_type": "execute_result"
    }
   ],
   "source": [
    "# selecting both labels\n",
    "df.loc[\"20250820\":\"20250822\", [\"A\", \"B\"]]"
   ]
  },
  {
   "cell_type": "code",
   "execution_count": 61,
   "id": "320a90cd-6ebc-4cb7-8e73-98d6e23846c3",
   "metadata": {},
   "outputs": [
    {
     "data": {
      "text/plain": [
       "np.float64(-1.2059032158234453)"
      ]
     },
     "execution_count": 61,
     "metadata": {},
     "output_type": "execute_result"
    }
   ],
   "source": [
    "# Selecting a single row and column returns a scalar\n",
    "df.loc[dates[0],\"A\"]"
   ]
  },
  {
   "cell_type": "code",
   "execution_count": 62,
   "id": "e0ec6b3e-0343-424d-bb02-de3f9329c44b",
   "metadata": {},
   "outputs": [
    {
     "data": {
      "text/plain": [
       "np.float64(-1.2059032158234453)"
      ]
     },
     "execution_count": 62,
     "metadata": {},
     "output_type": "execute_result"
    }
   ],
   "source": [
    "# for getting fast access to a scalar\n",
    "df.at[dates[0],\"A\"]"
   ]
  },
  {
   "cell_type": "code",
   "execution_count": 64,
   "id": "1ebc14d4-9958-47f5-a60f-29a8071c6f3e",
   "metadata": {},
   "outputs": [
    {
     "data": {
      "text/plain": [
       "A   -1.205903\n",
       "B   -0.511511\n",
       "C    0.651474\n",
       "D   -2.123320\n",
       "Name: 2025-08-20 00:00:00, dtype: float64"
      ]
     },
     "execution_count": 64,
     "metadata": {},
     "output_type": "execute_result"
    }
   ],
   "source": [
    "# Selection by position\n",
    "df.iloc[0]"
   ]
  },
  {
   "cell_type": "code",
   "execution_count": 66,
   "id": "9c79231c-7d9e-41e5-96fc-08f7aa682d5c",
   "metadata": {},
   "outputs": [
    {
     "data": {
      "text/html": [
       "<div>\n",
       "<style scoped>\n",
       "    .dataframe tbody tr th:only-of-type {\n",
       "        vertical-align: middle;\n",
       "    }\n",
       "\n",
       "    .dataframe tbody tr th {\n",
       "        vertical-align: top;\n",
       "    }\n",
       "\n",
       "    .dataframe thead th {\n",
       "        text-align: right;\n",
       "    }\n",
       "</style>\n",
       "<table border=\"1\" class=\"dataframe\">\n",
       "  <thead>\n",
       "    <tr style=\"text-align: right;\">\n",
       "      <th></th>\n",
       "      <th>A</th>\n",
       "    </tr>\n",
       "  </thead>\n",
       "  <tbody>\n",
       "    <tr>\n",
       "      <th>2025-08-23</th>\n",
       "      <td>0.242789</td>\n",
       "    </tr>\n",
       "    <tr>\n",
       "      <th>2025-08-24</th>\n",
       "      <td>0.053046</td>\n",
       "    </tr>\n",
       "  </tbody>\n",
       "</table>\n",
       "</div>"
      ],
      "text/plain": [
       "                   A\n",
       "2025-08-23  0.242789\n",
       "2025-08-24  0.053046"
      ]
     },
     "execution_count": 66,
     "metadata": {},
     "output_type": "execute_result"
    }
   ],
   "source": [
    "df.iloc[3:5,0:1]"
   ]
  },
  {
   "cell_type": "code",
   "execution_count": 68,
   "id": "8019cd15-9e87-47ab-9a19-4c3898b113a2",
   "metadata": {},
   "outputs": [
    {
     "data": {
      "text/html": [
       "<div>\n",
       "<style scoped>\n",
       "    .dataframe tbody tr th:only-of-type {\n",
       "        vertical-align: middle;\n",
       "    }\n",
       "\n",
       "    .dataframe tbody tr th {\n",
       "        vertical-align: top;\n",
       "    }\n",
       "\n",
       "    .dataframe thead th {\n",
       "        text-align: right;\n",
       "    }\n",
       "</style>\n",
       "<table border=\"1\" class=\"dataframe\">\n",
       "  <thead>\n",
       "    <tr style=\"text-align: right;\">\n",
       "      <th></th>\n",
       "      <th>C</th>\n",
       "      <th>D</th>\n",
       "    </tr>\n",
       "  </thead>\n",
       "  <tbody>\n",
       "    <tr>\n",
       "      <th>2025-08-21</th>\n",
       "      <td>0.208373</td>\n",
       "      <td>-0.448050</td>\n",
       "    </tr>\n",
       "    <tr>\n",
       "      <th>2025-08-22</th>\n",
       "      <td>-1.308022</td>\n",
       "      <td>0.708640</td>\n",
       "    </tr>\n",
       "    <tr>\n",
       "      <th>2025-08-24</th>\n",
       "      <td>-0.959791</td>\n",
       "      <td>-1.181696</td>\n",
       "    </tr>\n",
       "  </tbody>\n",
       "</table>\n",
       "</div>"
      ],
      "text/plain": [
       "                   C         D\n",
       "2025-08-21  0.208373 -0.448050\n",
       "2025-08-22 -1.308022  0.708640\n",
       "2025-08-24 -0.959791 -1.181696"
      ]
     },
     "execution_count": 68,
     "metadata": {},
     "output_type": "execute_result"
    }
   ],
   "source": [
    "df.iloc[[1,2,4],[2,3]]"
   ]
  },
  {
   "cell_type": "code",
   "execution_count": 69,
   "id": "0db7b3ab-f8aa-479e-ab54-8708690ce488",
   "metadata": {},
   "outputs": [
    {
     "data": {
      "text/html": [
       "<div>\n",
       "<style scoped>\n",
       "    .dataframe tbody tr th:only-of-type {\n",
       "        vertical-align: middle;\n",
       "    }\n",
       "\n",
       "    .dataframe tbody tr th {\n",
       "        vertical-align: top;\n",
       "    }\n",
       "\n",
       "    .dataframe thead th {\n",
       "        text-align: right;\n",
       "    }\n",
       "</style>\n",
       "<table border=\"1\" class=\"dataframe\">\n",
       "  <thead>\n",
       "    <tr style=\"text-align: right;\">\n",
       "      <th></th>\n",
       "      <th>A</th>\n",
       "      <th>B</th>\n",
       "      <th>C</th>\n",
       "      <th>D</th>\n",
       "    </tr>\n",
       "  </thead>\n",
       "  <tbody>\n",
       "    <tr>\n",
       "      <th>2025-08-21</th>\n",
       "      <td>0.280346</td>\n",
       "      <td>-0.972048</td>\n",
       "      <td>0.208373</td>\n",
       "      <td>-0.44805</td>\n",
       "    </tr>\n",
       "    <tr>\n",
       "      <th>2025-08-22</th>\n",
       "      <td>0.638818</td>\n",
       "      <td>-0.222277</td>\n",
       "      <td>-1.308022</td>\n",
       "      <td>0.70864</td>\n",
       "    </tr>\n",
       "  </tbody>\n",
       "</table>\n",
       "</div>"
      ],
      "text/plain": [
       "                   A         B         C        D\n",
       "2025-08-21  0.280346 -0.972048  0.208373 -0.44805\n",
       "2025-08-22  0.638818 -0.222277 -1.308022  0.70864"
      ]
     },
     "execution_count": 69,
     "metadata": {},
     "output_type": "execute_result"
    }
   ],
   "source": [
    "df.iloc[1:3, :]"
   ]
  },
  {
   "cell_type": "code",
   "execution_count": 70,
   "id": "f00ec260-0bf4-4a28-9fc6-b11aacbe362c",
   "metadata": {},
   "outputs": [
    {
     "data": {
      "text/html": [
       "<div>\n",
       "<style scoped>\n",
       "    .dataframe tbody tr th:only-of-type {\n",
       "        vertical-align: middle;\n",
       "    }\n",
       "\n",
       "    .dataframe tbody tr th {\n",
       "        vertical-align: top;\n",
       "    }\n",
       "\n",
       "    .dataframe thead th {\n",
       "        text-align: right;\n",
       "    }\n",
       "</style>\n",
       "<table border=\"1\" class=\"dataframe\">\n",
       "  <thead>\n",
       "    <tr style=\"text-align: right;\">\n",
       "      <th></th>\n",
       "      <th>A</th>\n",
       "      <th>B</th>\n",
       "      <th>C</th>\n",
       "      <th>D</th>\n",
       "    </tr>\n",
       "  </thead>\n",
       "  <tbody>\n",
       "    <tr>\n",
       "      <th>2025-08-21</th>\n",
       "      <td>0.280346</td>\n",
       "      <td>-0.972048</td>\n",
       "      <td>0.208373</td>\n",
       "      <td>-0.448050</td>\n",
       "    </tr>\n",
       "    <tr>\n",
       "      <th>2025-08-22</th>\n",
       "      <td>0.638818</td>\n",
       "      <td>-0.222277</td>\n",
       "      <td>-1.308022</td>\n",
       "      <td>0.708640</td>\n",
       "    </tr>\n",
       "    <tr>\n",
       "      <th>2025-08-23</th>\n",
       "      <td>0.242789</td>\n",
       "      <td>0.758159</td>\n",
       "      <td>0.769651</td>\n",
       "      <td>0.492938</td>\n",
       "    </tr>\n",
       "    <tr>\n",
       "      <th>2025-08-24</th>\n",
       "      <td>0.053046</td>\n",
       "      <td>-1.541530</td>\n",
       "      <td>-0.959791</td>\n",
       "      <td>-1.181696</td>\n",
       "    </tr>\n",
       "    <tr>\n",
       "      <th>2025-08-25</th>\n",
       "      <td>2.399643</td>\n",
       "      <td>0.332095</td>\n",
       "      <td>-0.217245</td>\n",
       "      <td>0.863972</td>\n",
       "    </tr>\n",
       "  </tbody>\n",
       "</table>\n",
       "</div>"
      ],
      "text/plain": [
       "                   A         B         C         D\n",
       "2025-08-21  0.280346 -0.972048  0.208373 -0.448050\n",
       "2025-08-22  0.638818 -0.222277 -1.308022  0.708640\n",
       "2025-08-23  0.242789  0.758159  0.769651  0.492938\n",
       "2025-08-24  0.053046 -1.541530 -0.959791 -1.181696\n",
       "2025-08-25  2.399643  0.332095 -0.217245  0.863972"
      ]
     },
     "execution_count": 70,
     "metadata": {},
     "output_type": "execute_result"
    }
   ],
   "source": [
    "# Boolean indexing\n",
    "# Selecting rows where df.A is greater than 0\n",
    "df[df[\"A\"] > 0]"
   ]
  },
  {
   "cell_type": "code",
   "execution_count": 71,
   "id": "589a7dfb-e12c-440b-a2ec-a32c73691d04",
   "metadata": {},
   "outputs": [
    {
     "data": {
      "text/html": [
       "<div>\n",
       "<style scoped>\n",
       "    .dataframe tbody tr th:only-of-type {\n",
       "        vertical-align: middle;\n",
       "    }\n",
       "\n",
       "    .dataframe tbody tr th {\n",
       "        vertical-align: top;\n",
       "    }\n",
       "\n",
       "    .dataframe thead th {\n",
       "        text-align: right;\n",
       "    }\n",
       "</style>\n",
       "<table border=\"1\" class=\"dataframe\">\n",
       "  <thead>\n",
       "    <tr style=\"text-align: right;\">\n",
       "      <th></th>\n",
       "      <th>A</th>\n",
       "      <th>B</th>\n",
       "      <th>C</th>\n",
       "      <th>D</th>\n",
       "    </tr>\n",
       "  </thead>\n",
       "  <tbody>\n",
       "    <tr>\n",
       "      <th>2025-08-20</th>\n",
       "      <td>NaN</td>\n",
       "      <td>NaN</td>\n",
       "      <td>0.651474</td>\n",
       "      <td>NaN</td>\n",
       "    </tr>\n",
       "    <tr>\n",
       "      <th>2025-08-21</th>\n",
       "      <td>0.280346</td>\n",
       "      <td>NaN</td>\n",
       "      <td>0.208373</td>\n",
       "      <td>NaN</td>\n",
       "    </tr>\n",
       "    <tr>\n",
       "      <th>2025-08-22</th>\n",
       "      <td>0.638818</td>\n",
       "      <td>NaN</td>\n",
       "      <td>NaN</td>\n",
       "      <td>0.708640</td>\n",
       "    </tr>\n",
       "    <tr>\n",
       "      <th>2025-08-23</th>\n",
       "      <td>0.242789</td>\n",
       "      <td>0.758159</td>\n",
       "      <td>0.769651</td>\n",
       "      <td>0.492938</td>\n",
       "    </tr>\n",
       "    <tr>\n",
       "      <th>2025-08-24</th>\n",
       "      <td>0.053046</td>\n",
       "      <td>NaN</td>\n",
       "      <td>NaN</td>\n",
       "      <td>NaN</td>\n",
       "    </tr>\n",
       "    <tr>\n",
       "      <th>2025-08-25</th>\n",
       "      <td>2.399643</td>\n",
       "      <td>0.332095</td>\n",
       "      <td>NaN</td>\n",
       "      <td>0.863972</td>\n",
       "    </tr>\n",
       "  </tbody>\n",
       "</table>\n",
       "</div>"
      ],
      "text/plain": [
       "                   A         B         C         D\n",
       "2025-08-20       NaN       NaN  0.651474       NaN\n",
       "2025-08-21  0.280346       NaN  0.208373       NaN\n",
       "2025-08-22  0.638818       NaN       NaN  0.708640\n",
       "2025-08-23  0.242789  0.758159  0.769651  0.492938\n",
       "2025-08-24  0.053046       NaN       NaN       NaN\n",
       "2025-08-25  2.399643  0.332095       NaN  0.863972"
      ]
     },
     "execution_count": 71,
     "metadata": {},
     "output_type": "execute_result"
    }
   ],
   "source": [
    "# Selecting values from a DataFrame where a boolean condtion is met\n",
    "df[df > 0]"
   ]
  },
  {
   "cell_type": "code",
   "execution_count": 73,
   "id": "c07df522-7548-4949-b7d4-7e5e2f0e6117",
   "metadata": {},
   "outputs": [
    {
     "data": {
      "text/html": [
       "<div>\n",
       "<style scoped>\n",
       "    .dataframe tbody tr th:only-of-type {\n",
       "        vertical-align: middle;\n",
       "    }\n",
       "\n",
       "    .dataframe tbody tr th {\n",
       "        vertical-align: top;\n",
       "    }\n",
       "\n",
       "    .dataframe thead th {\n",
       "        text-align: right;\n",
       "    }\n",
       "</style>\n",
       "<table border=\"1\" class=\"dataframe\">\n",
       "  <thead>\n",
       "    <tr style=\"text-align: right;\">\n",
       "      <th></th>\n",
       "      <th>A</th>\n",
       "      <th>B</th>\n",
       "      <th>C</th>\n",
       "      <th>D</th>\n",
       "      <th>E</th>\n",
       "    </tr>\n",
       "  </thead>\n",
       "  <tbody>\n",
       "    <tr>\n",
       "      <th>2025-08-20</th>\n",
       "      <td>-1.205903</td>\n",
       "      <td>-0.511511</td>\n",
       "      <td>0.651474</td>\n",
       "      <td>-2.123320</td>\n",
       "      <td>one</td>\n",
       "    </tr>\n",
       "    <tr>\n",
       "      <th>2025-08-21</th>\n",
       "      <td>0.280346</td>\n",
       "      <td>-0.972048</td>\n",
       "      <td>0.208373</td>\n",
       "      <td>-0.448050</td>\n",
       "      <td>one</td>\n",
       "    </tr>\n",
       "    <tr>\n",
       "      <th>2025-08-22</th>\n",
       "      <td>0.638818</td>\n",
       "      <td>-0.222277</td>\n",
       "      <td>-1.308022</td>\n",
       "      <td>0.708640</td>\n",
       "      <td>two</td>\n",
       "    </tr>\n",
       "    <tr>\n",
       "      <th>2025-08-23</th>\n",
       "      <td>0.242789</td>\n",
       "      <td>0.758159</td>\n",
       "      <td>0.769651</td>\n",
       "      <td>0.492938</td>\n",
       "      <td>three</td>\n",
       "    </tr>\n",
       "    <tr>\n",
       "      <th>2025-08-24</th>\n",
       "      <td>0.053046</td>\n",
       "      <td>-1.541530</td>\n",
       "      <td>-0.959791</td>\n",
       "      <td>-1.181696</td>\n",
       "      <td>four</td>\n",
       "    </tr>\n",
       "    <tr>\n",
       "      <th>2025-08-25</th>\n",
       "      <td>2.399643</td>\n",
       "      <td>0.332095</td>\n",
       "      <td>-0.217245</td>\n",
       "      <td>0.863972</td>\n",
       "      <td>three</td>\n",
       "    </tr>\n",
       "  </tbody>\n",
       "</table>\n",
       "</div>"
      ],
      "text/plain": [
       "                   A         B         C         D      E\n",
       "2025-08-20 -1.205903 -0.511511  0.651474 -2.123320    one\n",
       "2025-08-21  0.280346 -0.972048  0.208373 -0.448050    one\n",
       "2025-08-22  0.638818 -0.222277 -1.308022  0.708640    two\n",
       "2025-08-23  0.242789  0.758159  0.769651  0.492938  three\n",
       "2025-08-24  0.053046 -1.541530 -0.959791 -1.181696   four\n",
       "2025-08-25  2.399643  0.332095 -0.217245  0.863972  three"
      ]
     },
     "execution_count": 73,
     "metadata": {},
     "output_type": "execute_result"
    }
   ],
   "source": [
    "# Using isin() method for filtering\n",
    "df2 = df.copy()\n",
    "df2[\"E\"] = [\"one\", \"one\", \"two\", \"three\", \"four\", \"three\"]\n",
    "df2"
   ]
  },
  {
   "cell_type": "code",
   "execution_count": 76,
   "id": "6056f5bc-3f24-4d92-8ab8-25a3a70462c9",
   "metadata": {},
   "outputs": [
    {
     "data": {
      "text/html": [
       "<div>\n",
       "<style scoped>\n",
       "    .dataframe tbody tr th:only-of-type {\n",
       "        vertical-align: middle;\n",
       "    }\n",
       "\n",
       "    .dataframe tbody tr th {\n",
       "        vertical-align: top;\n",
       "    }\n",
       "\n",
       "    .dataframe thead th {\n",
       "        text-align: right;\n",
       "    }\n",
       "</style>\n",
       "<table border=\"1\" class=\"dataframe\">\n",
       "  <thead>\n",
       "    <tr style=\"text-align: right;\">\n",
       "      <th></th>\n",
       "      <th>A</th>\n",
       "      <th>B</th>\n",
       "      <th>C</th>\n",
       "      <th>D</th>\n",
       "      <th>E</th>\n",
       "    </tr>\n",
       "  </thead>\n",
       "  <tbody>\n",
       "    <tr>\n",
       "      <th>2025-08-22</th>\n",
       "      <td>0.638818</td>\n",
       "      <td>-0.222277</td>\n",
       "      <td>-1.308022</td>\n",
       "      <td>0.708640</td>\n",
       "      <td>two</td>\n",
       "    </tr>\n",
       "    <tr>\n",
       "      <th>2025-08-23</th>\n",
       "      <td>0.242789</td>\n",
       "      <td>0.758159</td>\n",
       "      <td>0.769651</td>\n",
       "      <td>0.492938</td>\n",
       "      <td>three</td>\n",
       "    </tr>\n",
       "    <tr>\n",
       "      <th>2025-08-25</th>\n",
       "      <td>2.399643</td>\n",
       "      <td>0.332095</td>\n",
       "      <td>-0.217245</td>\n",
       "      <td>0.863972</td>\n",
       "      <td>three</td>\n",
       "    </tr>\n",
       "  </tbody>\n",
       "</table>\n",
       "</div>"
      ],
      "text/plain": [
       "                   A         B         C         D      E\n",
       "2025-08-22  0.638818 -0.222277 -1.308022  0.708640    two\n",
       "2025-08-23  0.242789  0.758159  0.769651  0.492938  three\n",
       "2025-08-25  2.399643  0.332095 -0.217245  0.863972  three"
      ]
     },
     "execution_count": 76,
     "metadata": {},
     "output_type": "execute_result"
    }
   ],
   "source": [
    "df2[df2[\"E\"].isin([\"two\",\"three\"])]"
   ]
  },
  {
   "cell_type": "code",
   "execution_count": 80,
   "id": "df743ca3-e0b9-43f5-b936-9550b426a020",
   "metadata": {},
   "outputs": [
    {
     "data": {
      "text/html": [
       "<div>\n",
       "<style scoped>\n",
       "    .dataframe tbody tr th:only-of-type {\n",
       "        vertical-align: middle;\n",
       "    }\n",
       "\n",
       "    .dataframe tbody tr th {\n",
       "        vertical-align: top;\n",
       "    }\n",
       "\n",
       "    .dataframe thead th {\n",
       "        text-align: right;\n",
       "    }\n",
       "</style>\n",
       "<table border=\"1\" class=\"dataframe\">\n",
       "  <thead>\n",
       "    <tr style=\"text-align: right;\">\n",
       "      <th></th>\n",
       "      <th>A</th>\n",
       "      <th>B</th>\n",
       "      <th>C</th>\n",
       "      <th>D</th>\n",
       "      <th>F</th>\n",
       "    </tr>\n",
       "  </thead>\n",
       "  <tbody>\n",
       "    <tr>\n",
       "      <th>2025-08-20</th>\n",
       "      <td>-1.205903</td>\n",
       "      <td>-0.511511</td>\n",
       "      <td>0.651474</td>\n",
       "      <td>-2.123320</td>\n",
       "      <td>1</td>\n",
       "    </tr>\n",
       "    <tr>\n",
       "      <th>2025-08-21</th>\n",
       "      <td>0.280346</td>\n",
       "      <td>-0.972048</td>\n",
       "      <td>0.208373</td>\n",
       "      <td>-0.448050</td>\n",
       "      <td>2</td>\n",
       "    </tr>\n",
       "    <tr>\n",
       "      <th>2025-08-22</th>\n",
       "      <td>0.638818</td>\n",
       "      <td>-0.222277</td>\n",
       "      <td>-1.308022</td>\n",
       "      <td>0.708640</td>\n",
       "      <td>3</td>\n",
       "    </tr>\n",
       "    <tr>\n",
       "      <th>2025-08-23</th>\n",
       "      <td>0.242789</td>\n",
       "      <td>0.758159</td>\n",
       "      <td>0.769651</td>\n",
       "      <td>0.492938</td>\n",
       "      <td>4</td>\n",
       "    </tr>\n",
       "    <tr>\n",
       "      <th>2025-08-24</th>\n",
       "      <td>0.053046</td>\n",
       "      <td>-1.541530</td>\n",
       "      <td>-0.959791</td>\n",
       "      <td>-1.181696</td>\n",
       "      <td>5</td>\n",
       "    </tr>\n",
       "    <tr>\n",
       "      <th>2025-08-25</th>\n",
       "      <td>2.399643</td>\n",
       "      <td>0.332095</td>\n",
       "      <td>-0.217245</td>\n",
       "      <td>0.863972</td>\n",
       "      <td>6</td>\n",
       "    </tr>\n",
       "  </tbody>\n",
       "</table>\n",
       "</div>"
      ],
      "text/plain": [
       "                   A         B         C         D  F\n",
       "2025-08-20 -1.205903 -0.511511  0.651474 -2.123320  1\n",
       "2025-08-21  0.280346 -0.972048  0.208373 -0.448050  2\n",
       "2025-08-22  0.638818 -0.222277 -1.308022  0.708640  3\n",
       "2025-08-23  0.242789  0.758159  0.769651  0.492938  4\n",
       "2025-08-24  0.053046 -1.541530 -0.959791 -1.181696  5\n",
       "2025-08-25  2.399643  0.332095 -0.217245  0.863972  6"
      ]
     },
     "execution_count": 80,
     "metadata": {},
     "output_type": "execute_result"
    }
   ],
   "source": [
    "# Setting\n",
    "# setting a new column automatically aligns the data by the indexes\n",
    "s1=pd.Series([1,2,3,4,5,6], index=pd.date_range(\"20250820\", periods=6))\n",
    "df[\"F\"]=s1\n",
    "df"
   ]
  },
  {
   "cell_type": "code",
   "execution_count": 84,
   "id": "feecc6ae-c62c-457e-9f10-6d241674b3ff",
   "metadata": {},
   "outputs": [],
   "source": [
    "# setting values by label\n",
    "df.at[dates[0], \"A\"] = 0\n"
   ]
  },
  {
   "cell_type": "code",
   "execution_count": 85,
   "id": "467e02a4-931f-4c01-84d8-16c83e044204",
   "metadata": {},
   "outputs": [],
   "source": [
    "# setting values by position\n",
    "df.iloc[0,1] = 2"
   ]
  },
  {
   "cell_type": "code",
   "execution_count": null,
   "id": "b1e8832a-88e8-4185-b014-579ad63b7e0e",
   "metadata": {},
   "outputs": [],
   "source": []
  }
 ],
 "metadata": {
  "kernelspec": {
   "display_name": "Python 3 (ipykernel)",
   "language": "python",
   "name": "python3"
  },
  "language_info": {
   "codemirror_mode": {
    "name": "ipython",
    "version": 3
   },
   "file_extension": ".py",
   "mimetype": "text/x-python",
   "name": "python",
   "nbconvert_exporter": "python",
   "pygments_lexer": "ipython3",
   "version": "3.13.3"
  }
 },
 "nbformat": 4,
 "nbformat_minor": 5
}
